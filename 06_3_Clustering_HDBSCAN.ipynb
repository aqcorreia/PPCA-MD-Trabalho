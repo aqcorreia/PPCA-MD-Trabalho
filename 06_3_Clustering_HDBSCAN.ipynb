{
 "cells": [
  {
   "cell_type": "markdown",
   "id": "4f472f96-1794-41f8-aad7-01a8b3c15a9a",
   "metadata": {},
   "source": [
    "## Script que faz clustering com HDBSCAN\n",
    "\n",
    "O **HDBSCAN (Hierarchical Density-Based Spatial Clustering of Applications with Noise)** é um algoritmo de agrupamento não supervisionado baseado na densidade dos dados, que estende o DBSCAN ao introduzir uma abordagem hierárquica e dinâmica para identificar clusters. Ele ajusta automaticamente os parâmetros de densidade e pode lidar com clusters de diferentes tamanhos e densidades, além de identificar pontos como ruídos.\n",
    "\n",
    "Ideal para lidar com formas de clusters arbitrárias e dados com ruídos, o HDBSCAN é amplamente utilizado em **análise geoespacial**, **segmentação de imagens**, **classificação de texto baseada em embeddings** e **detecção de anomalias**. No caso de **classificação de texto**, o HDBSCAN pode agrupar documentos semelhantes a partir de vetores gerados por modelos de embeddings como Word2Vec, GloVe ou transformers, permitindo a descoberta de tópicos ou agrupamentos de textos sem rótulos prévios.\n",
    "\n",
    "Principais Vantagens do HDBSCAN:\n",
    "- **Sem necessidade de ε fixo**: O HDBSCAN ajusta dinamicamente os clusters com base na densidade local.\n",
    "- **Robustez a ruídos**: Identifica eficientemente pontos que não pertencem a clusters densos.\n",
    "- **Suporte a clusters de diferentes densidades**: Ideal para dados complexos.\n",
    "\n",
    "Embora o HDBSCAN elimine a necessidade de configurar parâmetros como o raio de vizinhança (**ε**), ele ainda exige a definição de valores como o tamanho mínimo do cluster (**min_cluster_size**) e o número mínimo de amostras (**min_samples**), que podem impactar os resultados.\n",
    "\n",
    "\n",
    "Também será havaliado:\n",
    "- **Proporção de ruído**: Portarias que não foram possíveis classificar\n",
    "- **Total de clustar válidos gerados**\n",
    "\n",
    "Adicionalmente, o teste levará em consideração:\n",
    "- A análise com o texto original e o texto tratado.\n",
    "- A aplicação de métodos de redução de dimensionalidade para otimizar os dados.\n",
    "\n",
    "---\n",
    "\n",
    "**1)** Execução Inicial:\n",
    "O script inicia com a leitura do arquivo:  \n",
    "**`f'./saida/06_2_DOU2_portarias_mgi_tratado_NER_lematizado_embeddingsUSE_SBERT_Reducao_Kmeans_DBSCAN.parquet'`**  \n",
    "Caso este arquivo não exista, executar o notebook **`06_2_Clustering_DBSCAN.ipynb`** para gerar os dados necessários.\n",
    "\n"
   ]
  },
  {
   "cell_type": "markdown",
   "id": "91e07464-a6b1-48b0-9af3-ad50117c16b3",
   "metadata": {},
   "source": [
    "## Bibliotecas"
   ]
  },
  {
   "cell_type": "code",
   "execution_count": 1,
   "id": "edd4c9ca-7858-492d-a8c1-07932a0184cf",
   "metadata": {},
   "outputs": [],
   "source": [
    "# Bibliotecas para manipulação de dados e cálculo\n",
    "import pandas as pd\n",
    "import numpy as np\n",
    "import time  # Para medir o tempo de execução\n",
    "\n",
    "# Bibliotecas para visualização\n",
    "import matplotlib.pyplot as plt\n",
    "from mpl_toolkits.mplot3d import Axes3D\n",
    "import seaborn as sns\n",
    "\n",
    "# Bibliotecas para clusterização\n",
    "from sklearn.cluster import DBSCAN\n",
    "\n",
    "# Bibliotecas de aprendizado de máquina e redução de dimensionalidade\n",
    "from sklearn.decomposition import PCA, KernelPCA\n",
    "# from sklearn.manifold import TSNE, LocallyLinearEmbedding\n",
    "# from sklearn.preprocessing import StandardScaler\n",
    "# import umap\n",
    "\n",
    "# Métricas para avaliação de clusters\n",
    "from sklearn.metrics import silhouette_score, davies_bouldin_score, calinski_harabasz_score\n",
    "\n",
    "# Hierarquia para dendrogramas\n",
    "from scipy.cluster.hierarchy import dendrogram, linkage\n",
    "\n"
   ]
  },
  {
   "cell_type": "code",
   "execution_count": 2,
   "id": "676c9856-28b1-4280-922e-8328f1672ff0",
   "metadata": {},
   "outputs": [
    {
     "data": {
      "text/plain": [
       "(19258, 99)"
      ]
     },
     "execution_count": 2,
     "metadata": {},
     "output_type": "execute_result"
    }
   ],
   "source": [
    "douItem = 2\n",
    "secao = f'Secao0{douItem}'\n",
    "\n",
    "# Lê o arquivo Parquet\n",
    "df_portarias_mgi = pd.read_parquet(f'./saida/06_2_DOU{secao}_portarias_mgi_tratado_NER_lematizado_embeddingsUSE_SBERT_Reducao_Kmeans_DBSCAN.parquet', engine='pyarrow')  # ou engine='fastparquet'\n",
    "\n",
    "# Exibe as primeiras linhas do DataFrame\n",
    "df_portarias_mgi.shape\n"
   ]
  },
  {
   "cell_type": "code",
   "execution_count": 3,
   "id": "0a324349-6adb-4f4c-a190-ba0263e71c17",
   "metadata": {},
   "outputs": [
    {
     "data": {
      "text/html": [
       "<div>\n",
       "<style scoped>\n",
       "    .dataframe tbody tr th:only-of-type {\n",
       "        vertical-align: middle;\n",
       "    }\n",
       "\n",
       "    .dataframe tbody tr th {\n",
       "        vertical-align: top;\n",
       "    }\n",
       "\n",
       "    .dataframe thead th {\n",
       "        text-align: right;\n",
       "    }\n",
       "</style>\n",
       "<table border=\"1\" class=\"dataframe\">\n",
       "  <thead>\n",
       "    <tr style=\"text-align: right;\">\n",
       "      <th></th>\n",
       "      <th>id</th>\n",
       "      <th>name</th>\n",
       "      <th>idOficio</th>\n",
       "      <th>pubName</th>\n",
       "      <th>artType</th>\n",
       "      <th>pubDate</th>\n",
       "      <th>artClass</th>\n",
       "      <th>artCategory</th>\n",
       "      <th>artSize</th>\n",
       "      <th>artNotes</th>\n",
       "      <th>...</th>\n",
       "      <th>USE_Embeddings4_PCA_TSNE_dbscan</th>\n",
       "      <th>USE_Embeddings4_UMAP_dbscan</th>\n",
       "      <th>SBERT_Embeddings1_dbscan</th>\n",
       "      <th>SBERT_Embeddings1_TSNE_dbscan</th>\n",
       "      <th>SBERT_Embeddings1_PCA_TSNE_dbscan</th>\n",
       "      <th>SBERT_Embeddings1_UMAP_dbscan</th>\n",
       "      <th>SBERT_Embeddings4_dbscan</th>\n",
       "      <th>SBERT_Embeddings4_TSNE_dbscan</th>\n",
       "      <th>SBERT_Embeddings4_PCA_TSNE_dbscan</th>\n",
       "      <th>SBERT_Embeddings4_UMAP_dbscan</th>\n",
       "    </tr>\n",
       "  </thead>\n",
       "  <tbody>\n",
       "    <tr>\n",
       "      <th>0</th>\n",
       "      <td>30266027</td>\n",
       "      <td>PORTARIA DE PESSOAL 529</td>\n",
       "      <td>9368436</td>\n",
       "      <td>DO2</td>\n",
       "      <td>Portaria</td>\n",
       "      <td>2023-01-25</td>\n",
       "      <td>00028:00006:00000:00000:00000:00000:00000:0000...</td>\n",
       "      <td>Ministério da Gestão e da Inovação em Serviços...</td>\n",
       "      <td>12</td>\n",
       "      <td></td>\n",
       "      <td>...</td>\n",
       "      <td>-1</td>\n",
       "      <td>0</td>\n",
       "      <td>0</td>\n",
       "      <td>-1</td>\n",
       "      <td>-1</td>\n",
       "      <td>0</td>\n",
       "      <td>-1</td>\n",
       "      <td>-1</td>\n",
       "      <td>0</td>\n",
       "      <td>0</td>\n",
       "    </tr>\n",
       "    <tr>\n",
       "      <th>1</th>\n",
       "      <td>30264410</td>\n",
       "      <td>ATO PORTARIA 655</td>\n",
       "      <td>9368530</td>\n",
       "      <td>DO2</td>\n",
       "      <td>Portaria</td>\n",
       "      <td>2023-01-25</td>\n",
       "      <td>00028:00006:00000:00000:00000:00000:00000:0000...</td>\n",
       "      <td>Ministério da Gestão e da Inovação em Serviços...</td>\n",
       "      <td>12</td>\n",
       "      <td></td>\n",
       "      <td>...</td>\n",
       "      <td>-1</td>\n",
       "      <td>1</td>\n",
       "      <td>0</td>\n",
       "      <td>-1</td>\n",
       "      <td>-1</td>\n",
       "      <td>1</td>\n",
       "      <td>-1</td>\n",
       "      <td>0</td>\n",
       "      <td>-1</td>\n",
       "      <td>6</td>\n",
       "    </tr>\n",
       "    <tr>\n",
       "      <th>2</th>\n",
       "      <td>30265009</td>\n",
       "      <td>ATO PORTARIA DE PESSOAL 461</td>\n",
       "      <td>9368536</td>\n",
       "      <td>DO2</td>\n",
       "      <td>Portaria</td>\n",
       "      <td>2023-01-25</td>\n",
       "      <td>00028:00006:00000:00000:00000:00000:00000:0000...</td>\n",
       "      <td>Ministério da Gestão e da Inovação em Serviços...</td>\n",
       "      <td>12</td>\n",
       "      <td></td>\n",
       "      <td>...</td>\n",
       "      <td>-1</td>\n",
       "      <td>1</td>\n",
       "      <td>0</td>\n",
       "      <td>-1</td>\n",
       "      <td>-1</td>\n",
       "      <td>1</td>\n",
       "      <td>-1</td>\n",
       "      <td>0</td>\n",
       "      <td>1</td>\n",
       "      <td>6</td>\n",
       "    </tr>\n",
       "    <tr>\n",
       "      <th>3</th>\n",
       "      <td>30265678</td>\n",
       "      <td>ATO PORTARIA DE PESSOAL SGP 606</td>\n",
       "      <td>9368541</td>\n",
       "      <td>DO2</td>\n",
       "      <td>Portaria</td>\n",
       "      <td>2023-01-25</td>\n",
       "      <td>00028:00006:00000:00000:00000:00000:00000:0000...</td>\n",
       "      <td>Ministério da Gestão e da Inovação em Serviços...</td>\n",
       "      <td>12</td>\n",
       "      <td></td>\n",
       "      <td>...</td>\n",
       "      <td>110</td>\n",
       "      <td>2</td>\n",
       "      <td>0</td>\n",
       "      <td>0</td>\n",
       "      <td>0</td>\n",
       "      <td>2</td>\n",
       "      <td>-1</td>\n",
       "      <td>1</td>\n",
       "      <td>2</td>\n",
       "      <td>1</td>\n",
       "    </tr>\n",
       "    <tr>\n",
       "      <th>4</th>\n",
       "      <td>30266030</td>\n",
       "      <td>ATO PORTARIA DE PESSOAL SGP 517</td>\n",
       "      <td>9368573</td>\n",
       "      <td>DO2</td>\n",
       "      <td>Portaria</td>\n",
       "      <td>2023-01-25</td>\n",
       "      <td>00028:00006:00000:00000:00000:00000:00000:0000...</td>\n",
       "      <td>Ministério da Gestão e da Inovação em Serviços...</td>\n",
       "      <td>12</td>\n",
       "      <td></td>\n",
       "      <td>...</td>\n",
       "      <td>0</td>\n",
       "      <td>-1</td>\n",
       "      <td>0</td>\n",
       "      <td>-1</td>\n",
       "      <td>968</td>\n",
       "      <td>2</td>\n",
       "      <td>-1</td>\n",
       "      <td>-1</td>\n",
       "      <td>3</td>\n",
       "      <td>1</td>\n",
       "    </tr>\n",
       "  </tbody>\n",
       "</table>\n",
       "<p>5 rows × 99 columns</p>\n",
       "</div>"
      ],
      "text/plain": [
       "         id                             name idOficio pubName   artType  \\\n",
       "0  30266027          PORTARIA DE PESSOAL 529  9368436     DO2  Portaria   \n",
       "1  30264410                 ATO PORTARIA 655  9368530     DO2  Portaria   \n",
       "2  30265009      ATO PORTARIA DE PESSOAL 461  9368536     DO2  Portaria   \n",
       "3  30265678  ATO PORTARIA DE PESSOAL SGP 606  9368541     DO2  Portaria   \n",
       "4  30266030  ATO PORTARIA DE PESSOAL SGP 517  9368573     DO2  Portaria   \n",
       "\n",
       "     pubDate                                           artClass  \\\n",
       "0 2023-01-25  00028:00006:00000:00000:00000:00000:00000:0000...   \n",
       "1 2023-01-25  00028:00006:00000:00000:00000:00000:00000:0000...   \n",
       "2 2023-01-25  00028:00006:00000:00000:00000:00000:00000:0000...   \n",
       "3 2023-01-25  00028:00006:00000:00000:00000:00000:00000:0000...   \n",
       "4 2023-01-25  00028:00006:00000:00000:00000:00000:00000:0000...   \n",
       "\n",
       "                                         artCategory artSize artNotes  ...  \\\n",
       "0  Ministério da Gestão e da Inovação em Serviços...      12           ...   \n",
       "1  Ministério da Gestão e da Inovação em Serviços...      12           ...   \n",
       "2  Ministério da Gestão e da Inovação em Serviços...      12           ...   \n",
       "3  Ministério da Gestão e da Inovação em Serviços...      12           ...   \n",
       "4  Ministério da Gestão e da Inovação em Serviços...      12           ...   \n",
       "\n",
       "  USE_Embeddings4_PCA_TSNE_dbscan USE_Embeddings4_UMAP_dbscan  \\\n",
       "0                              -1                           0   \n",
       "1                              -1                           1   \n",
       "2                              -1                           1   \n",
       "3                             110                           2   \n",
       "4                               0                          -1   \n",
       "\n",
       "  SBERT_Embeddings1_dbscan SBERT_Embeddings1_TSNE_dbscan  \\\n",
       "0                        0                            -1   \n",
       "1                        0                            -1   \n",
       "2                        0                            -1   \n",
       "3                        0                             0   \n",
       "4                        0                            -1   \n",
       "\n",
       "  SBERT_Embeddings1_PCA_TSNE_dbscan SBERT_Embeddings1_UMAP_dbscan  \\\n",
       "0                                -1                             0   \n",
       "1                                -1                             1   \n",
       "2                                -1                             1   \n",
       "3                                 0                             2   \n",
       "4                               968                             2   \n",
       "\n",
       "  SBERT_Embeddings4_dbscan SBERT_Embeddings4_TSNE_dbscan  \\\n",
       "0                       -1                            -1   \n",
       "1                       -1                             0   \n",
       "2                       -1                             0   \n",
       "3                       -1                             1   \n",
       "4                       -1                            -1   \n",
       "\n",
       "  SBERT_Embeddings4_PCA_TSNE_dbscan SBERT_Embeddings4_UMAP_dbscan  \n",
       "0                                 0                             0  \n",
       "1                                -1                             6  \n",
       "2                                 1                             6  \n",
       "3                                 2                             1  \n",
       "4                                 3                             1  \n",
       "\n",
       "[5 rows x 99 columns]"
      ]
     },
     "execution_count": 3,
     "metadata": {},
     "output_type": "execute_result"
    }
   ],
   "source": [
    "df_portarias_mgi.head()"
   ]
  },
  {
   "cell_type": "code",
   "execution_count": 4,
   "id": "b92cdf3b-8a89-40b5-ab29-ddb101b93b3a",
   "metadata": {},
   "outputs": [
    {
     "data": {
      "text/plain": [
       "Index(['id', 'name', 'idOficio', 'pubName', 'artType', 'pubDate', 'artClass',\n",
       "       'artCategory', 'artSize', 'artNotes', 'numberPage', 'pdfPage',\n",
       "       'editionNumber', 'highlightType', 'highlightPriority', 'highlight',\n",
       "       'highlightimage', 'highlightimagename', 'idMateria', 'Identifica',\n",
       "       'Data', 'Ementa', 'Titulo', 'SubTitulo', 'TextoHTML', 'file_name',\n",
       "       'zip_name', 'Ano', 'Mes', 'Texto', 'Total_palavras', 'TextoTratado',\n",
       "       'TextoTratado_TotalPalavras', 'Texto_sem_nomes', 'Nomes',\n",
       "       'TextoTratadoSemNomes', 'TextoTratadoSemNomes_TotalPalavras',\n",
       "       'TextoTratadoSemNomesLemmatized',\n",
       "       'TextoTratadoSemNomesLemmatized_TotalPalavras', 'USE_Embeddings1',\n",
       "       'USE_Embeddings4', 'SBERT_Embeddings1', 'SBERT_Embeddings4',\n",
       "       'USE_Embeddings1_PCA', 'USE_Embeddings4_PCA', 'SBERT_Embeddings1_PCA',\n",
       "       'SBERT_Embeddings4_PCA', 'USE_Embeddings1_TSNE', 'USE_Embeddings4_TSNE',\n",
       "       'SBERT_Embeddings1_TSNE', 'SBERT_Embeddings4_TSNE',\n",
       "       'USE_Embeddings1_KPCA', 'USE_Embeddings4_KPCA',\n",
       "       'SBERT_Embeddings1_KPCA', 'SBERT_Embeddings4_KPCA',\n",
       "       'USE_Embeddings1_PCA_TSNE', 'USE_Embeddings4_PCA_TSNE',\n",
       "       'SBERT_Embeddings1_PCA_TSNE', 'SBERT_Embeddings4_PCA_TSNE',\n",
       "       'USE_Embeddings1_UMAP', 'USE_Embeddings4_UMAP',\n",
       "       'SBERT_Embeddings1_UMAP', 'SBERT_Embeddings4_UMAP',\n",
       "       'USE_Embeddings1_kmeans', 'USE_Embeddings1_PCA_kmeans',\n",
       "       'USE_Embeddings1_TSNE_kmeans', 'USE_Embeddings1_PCA_TSNE_kmeans',\n",
       "       'USE_Embeddings1_UMAP_kmeans', 'USE_Embeddings4_kmeans',\n",
       "       'USE_Embeddings4_PCA_kmeans', 'USE_Embeddings4_TSNE_kmeans',\n",
       "       'USE_Embeddings4_PCA_TSNE_kmeans', 'USE_Embeddings4_UMAP_kmeans',\n",
       "       'SBERT_Embeddings1_kmeans', 'SBERT_Embeddings1_PCA_kmeans',\n",
       "       'SBERT_Embeddings1_TSNE_kmeans', 'SBERT_Embeddings1_PCA_TSNE_kmeans',\n",
       "       'SBERT_Embeddings1_UMAP_kmeans', 'SBERT_Embeddings4_kmeans',\n",
       "       'SBERT_Embeddings4_PCA_kmeans', 'SBERT_Embeddings4_TSNE_kmeans',\n",
       "       'SBERT_Embeddings4_PCA_TSNE_kmeans', 'SBERT_Embeddings4_UMAP_kmeans',\n",
       "       'USE_Embeddings1_dbscan', 'USE_Embeddings1_TSNE_dbscan',\n",
       "       'USE_Embeddings1_PCA_TSNE_dbscan', 'USE_Embeddings1_UMAP_dbscan',\n",
       "       'USE_Embeddings4_dbscan', 'USE_Embeddings4_TSNE_dbscan',\n",
       "       'USE_Embeddings4_PCA_TSNE_dbscan', 'USE_Embeddings4_UMAP_dbscan',\n",
       "       'SBERT_Embeddings1_dbscan', 'SBERT_Embeddings1_TSNE_dbscan',\n",
       "       'SBERT_Embeddings1_PCA_TSNE_dbscan', 'SBERT_Embeddings1_UMAP_dbscan',\n",
       "       'SBERT_Embeddings4_dbscan', 'SBERT_Embeddings4_TSNE_dbscan',\n",
       "       'SBERT_Embeddings4_PCA_TSNE_dbscan', 'SBERT_Embeddings4_UMAP_dbscan'],\n",
       "      dtype='object')"
      ]
     },
     "execution_count": 4,
     "metadata": {},
     "output_type": "execute_result"
    }
   ],
   "source": [
    "df_portarias_mgi.columns"
   ]
  },
  {
   "cell_type": "markdown",
   "id": "78292d46-06eb-43f7-9e15-804475be23b8",
   "metadata": {},
   "source": [
    "## Funções"
   ]
  },
  {
   "cell_type": "code",
   "execution_count": null,
   "id": "fca7abe3-89f3-43e5-afff-4a1b69546dae",
   "metadata": {},
   "outputs": [],
   "source": [
    "def clusterizar_e_plotar_dbscan(df, coluna, eps, min_samples, sufixo_coluna=\"dbscan\", sufixo_grafico=\"\"):\n",
    "    \"\"\"\n",
    "    Aplica o DBSCAN em dados reduzidos (ex.: t-SNE), calcula métricas de avaliação e gera o gráfico dos clusters.\n",
    "\n",
    "    Parâmetros:\n",
    "        df (pd.DataFrame): DataFrame contendo os dados.\n",
    "        coluna (str): Nome da coluna que contém os embeddings reduzidos (ex.: t-SNE).\n",
    "        eps (float): Valor do parâmetro eps para o DBSCAN.\n",
    "        min_samples (int): Valor do parâmetro min_samples para o DBSCAN.\n",
    "\n",
    "    Retorno:\n",
    "        pd.DataFrame: DataFrame atualizado com os clusters atribuídos pelo DBSCAN.\n",
    "    \"\"\"\n",
    "    # Extração dos embeddings\n",
    "    embeddings_2d = np.vstack(df[coluna])\n",
    "\n",
    "    # Aplicação do DBSCAN\n",
    "    dbscan = DBSCAN(eps=eps, min_samples=min_samples, metric='euclidean')\n",
    "    clusters = dbscan.fit_predict(embeddings_2d)\n",
    "\n",
    "    # Adicionar clusters ao DataFrame\n",
    "    cluster_column_name = f\"{coluna}_{sufixo_coluna}\"\n",
    "    df[cluster_column_name] = clusters\n",
    "\n",
    "    # Filtrar clusters válidos (excluindo ruído)\n",
    "    mask_valid_clusters = clusters != -1  # Ignorar rótulos de ruído (-1)\n",
    "    valid_embeddings = embeddings_2d[mask_valid_clusters]\n",
    "    valid_clusters = clusters[mask_valid_clusters]\n",
    "\n",
    "    # Verificar se há clusters válidos suficientes\n",
    "    if len(set(valid_clusters)) > 1:  # Garantir que há mais de um cluster válido\n",
    "        silhouette_avg = silhouette_score(valid_embeddings, valid_clusters)\n",
    "        davies_bouldin = davies_bouldin_score(valid_embeddings, valid_clusters)\n",
    "        calinski_harabasz = calinski_harabasz_score(valid_embeddings, valid_clusters)\n",
    "\n",
    "        print(\"\\n--- Métricas de Avaliação ---\")\n",
    "        print(f\"Índice de Silhueta (clusters válidos): {silhouette_avg:.6f}\")\n",
    "        print(f\"Índice de Davies-Bouldin (clusters válidos): {davies_bouldin:.6f}\")\n",
    "        print(f\"Índice de Calinski-Harabasz (clusters válidos): {calinski_harabasz:.2f}\")\n",
    "    else:\n",
    "        print(\"Não há clusters suficientes para calcular as métricas.\")\n",
    "\n",
    "    # Proporção de ruído\n",
    "    num_points = len(clusters)\n",
    "    num_noise = np.sum(clusters == -1)\n",
    "    noise_ratio = num_noise / num_points\n",
    "    print(f\"Proporção de ruído: {noise_ratio:.2%}\")\n",
    "\n",
    "    # Total de clusters válidos (excluindo ruído)\n",
    "    total_clusters_excl_noise = len(set(clusters) - {-1})  # Remove o cluster de ruído (-1)\n",
    "    print(f\"Total de clusters válidos (excluindo ruído): {total_clusters_excl_noise}\")\n",
    "\n",
    "    # Visualização dos clusters\n",
    "    print(\"Gerando gráfico dos clusters...\")\n",
    "    plt.figure(figsize=(10, 6))\n",
    "    plt.scatter(embeddings_2d[:, 0], embeddings_2d[:, 1], c=clusters, cmap='viridis', s=5)\n",
    "\n",
    "    # Adicionar sufixo ao título do gráfico, se fornecido\n",
    "    grafico_titulo = f\"Clusterização com DBSCAN (eps={eps}, min_samples={min_samples})\"\n",
    "    if sufixo_grafico:\n",
    "        grafico_titulo = f\"Clusterização com DBSCAN (eps={eps}, min_samples={min_samples}) - {sufixo_grafico}\"\n",
    "    plt.title(grafico_titulo)\n",
    "    \n",
    "    plt.xlabel(\"Dimensão 1\")\n",
    "    plt.ylabel(\"Dimensão 2\")\n",
    "    plt.colorbar(label=\"Cluster\")\n",
    "    plt.grid(True)\n",
    "    plt.show()"
   ]
  },
  {
   "cell_type": "code",
   "execution_count": null,
   "id": "0bd52cee-155f-49ed-b262-abd5f50c105f",
   "metadata": {},
   "outputs": [],
   "source": [
    "def processar_dbscan_e_clusterizar(df, coluna_embeddings, eps_values, min_samples_values):\n",
    "    \"\"\"\n",
    "    Processa o DBSCAN para várias combinações de parâmetros, identifica a melhor configuração,\n",
    "    realiza a clusterização e gera a visualização.\n",
    "\n",
    "    Parâmetros:\n",
    "        df (pd.DataFrame): DataFrame contendo os dados.\n",
    "        coluna_embeddings (str): Nome da coluna do DataFrame com os embeddings a serem clusterizados.\n",
    "        eps_values (list): Lista de valores de eps a serem testados.\n",
    "        min_samples_values (list): Lista de valores de min_samples a serem testados.\n",
    "\n",
    "    Retorno:\n",
    "        pd.DataFrame: DataFrame atualizado com a clusterização da melhor configuração.\n",
    "    \"\"\"\n",
    "    # Gerar combinações de DBSCAN e coletar métricas\n",
    "    print(\"Iniciando o processamento para várias combinações de eps e min_samples...\")\n",
    "    df_resultados = []\n",
    "    \n",
    "    embeddings = np.vstack(df[coluna_embeddings])\n",
    "    for eps in eps_values:\n",
    "        for min_samples in min_samples_values:\n",
    "            print(f\"Processando DBSCAN para eps={eps}, min_samples={min_samples}...\")\n",
    "            dbscan = DBSCAN(eps=eps, min_samples=min_samples, metric='euclidean')\n",
    "            clusters = dbscan.fit_predict(embeddings)\n",
    "\n",
    "            # Filtrar clusters válidos\n",
    "            mask_valid_clusters = clusters != -1\n",
    "            valid_embeddings = embeddings[mask_valid_clusters]\n",
    "            valid_clusters = clusters[mask_valid_clusters]\n",
    "\n",
    "            # Calcular métricas se houver mais de um cluster válido\n",
    "            if len(set(valid_clusters)) > 1:\n",
    "                silhouette = silhouette_score(valid_embeddings, valid_clusters)\n",
    "                davies_bouldin = davies_bouldin_score(valid_embeddings, valid_clusters)\n",
    "                calinski_harabasz = calinski_harabasz_score(valid_embeddings, valid_clusters)\n",
    "            else:\n",
    "                silhouette = davies_bouldin = calinski_harabasz = np.nan\n",
    "\n",
    "            # Calcular proporção de ruído\n",
    "            num_points = len(clusters)\n",
    "            num_noise = np.sum(clusters == -1)\n",
    "            noise_ratio = (num_noise / num_points) * 100  # Em percentual\n",
    "\n",
    "            # Armazenar resultados\n",
    "            df_resultados.append({\n",
    "                'eps': eps,\n",
    "                'min_samples': min_samples,\n",
    "                'Silhouette Score': silhouette,\n",
    "                'Davies-Bouldin Score': davies_bouldin,\n",
    "                'Calinski-Harabasz Score': calinski_harabasz,\n",
    "                'ruido_percent': round(noise_ratio, 2),\n",
    "                'clusters_validos': len(set(valid_clusters)) - (1 if -1 in clusters else 0)\n",
    "            })\n",
    "\n",
    "    # Converter resultados para DataFrame\n",
    "    df_resultados = pd.DataFrame(df_resultados)\n",
    "   \n",
    "    return df_resultados\n"
   ]
  },
  {
   "cell_type": "markdown",
   "id": "06317ba5-21bf-496a-b8c3-eac9e6cc1470",
   "metadata": {},
   "source": [
    "## 1) Embedding Universal Sentence Encoder (USE)"
   ]
  },
  {
   "cell_type": "markdown",
   "id": "87112006-5669-47d9-a350-7fa7afef0d30",
   "metadata": {},
   "source": [
    "###  1.1) Sem tratamento do texto"
   ]
  },
  {
   "cell_type": "markdown",
   "id": "672310d5-92e2-4fba-882a-fe4bf116ca34",
   "metadata": {},
   "source": [
    "#### 1.1.1) Sem redução de dimensionalidade"
   ]
  },
  {
   "cell_type": "code",
   "execution_count": null,
   "id": "5643adbb-f054-4cef-b917-0af32f34ccf8",
   "metadata": {},
   "outputs": [],
   "source": [
    "vColuna = 'USE_Embeddings1'\n",
    "resultado_dbscan = processar_dbscan_e_clusterizar(df_portarias_mgi, vColuna, eps_values = [0.3, 0.5, 0.7], min_samples_values = [5, 10, 15])\n",
    "\n",
    "# Exibir os resultados\n",
    "resultado_dbscan.head(100)"
   ]
  },
  {
   "cell_type": "code",
   "execution_count": null,
   "id": "ab72e4a7-e2f4-4d35-881d-aa2a6115d887",
   "metadata": {},
   "outputs": [],
   "source": [
    "clusterizar_e_plotar_dbscan(df_portarias_mgi, vColuna, 0.7, 5, sufixo_coluna=\"dbscan\")"
   ]
  },
  {
   "cell_type": "markdown",
   "id": "dd3bee27-b95f-4ba1-82b7-aba72538466d",
   "metadata": {},
   "source": [
    "#### 1.1.2) Redução com PCA"
   ]
  },
  {
   "cell_type": "code",
   "execution_count": null,
   "id": "cb87439b-5754-4833-8362-33d23a123efd",
   "metadata": {},
   "outputs": [],
   "source": [
    "vColuna = 'USE_Embeddings1_PCA'\n",
    "resultado_dbscan = processar_dbscan_e_clusterizar(df_portarias_mgi, vColuna, eps_values = [0.3, 0.5, 0.7], min_samples_values = [5, 10, 15])\n",
    "\n",
    "# Exibir os resultados\n",
    "resultado_dbscan.head(100)"
   ]
  },
  {
   "cell_type": "code",
   "execution_count": null,
   "id": "e18bb3e1-8c31-4789-b825-ef0a6c389890",
   "metadata": {},
   "outputs": [],
   "source": [
    "# clusterizar_e_plotar_dbscan(df_portarias_mgi, vColuna, 0.7, 3, sufixo_coluna=\"dbscan\", sufixo_grafico=\"PCA\")"
   ]
  },
  {
   "cell_type": "markdown",
   "id": "59583c5a-607f-41e5-aefd-4b8521d28340",
   "metadata": {},
   "source": [
    "#### 1.1.3) Redução com t-SNE"
   ]
  },
  {
   "cell_type": "code",
   "execution_count": null,
   "id": "9c91bdf9-f95d-4ba1-bb5d-4c1775d7554c",
   "metadata": {},
   "outputs": [],
   "source": [
    "vColuna = 'USE_Embeddings1_TSNE'\n",
    "resultado_dbscan = processar_dbscan_e_clusterizar(df_portarias_mgi, vColuna, eps_values = [0.3, 0.5, 0.7], min_samples_values = [5, 10, 15])\n",
    "\n",
    "# Exibir os resultados\n",
    "resultado_dbscan.head(100)"
   ]
  },
  {
   "cell_type": "code",
   "execution_count": null,
   "id": "6899638e-073f-4fab-8316-4256cc4e14c3",
   "metadata": {},
   "outputs": [],
   "source": [
    "clusterizar_e_plotar_dbscan(df_portarias_mgi, vColuna, 0.7, 5, sufixo_coluna=\"dbscan\", sufixo_grafico=\"t-SNE\")"
   ]
  },
  {
   "cell_type": "markdown",
   "id": "0eb88d6a-709d-43c9-ac04-cb7547c5b5a3",
   "metadata": {},
   "source": [
    "#### 1.1.4) Redução com PCA + t-SNE"
   ]
  },
  {
   "cell_type": "code",
   "execution_count": null,
   "id": "c3c19ea8-9e1b-4730-b4d6-7cb59c6c09c9",
   "metadata": {},
   "outputs": [],
   "source": [
    "vColuna = 'USE_Embeddings1_PCA_TSNE'\n",
    "resultado_dbscan = processar_dbscan_e_clusterizar(df_portarias_mgi, vColuna, eps_values = [0.3, 0.5, 0.7], min_samples_values = [5, 10, 15])\n",
    "\n",
    "# Exibir os resultados\n",
    "resultado_dbscan.head(100)"
   ]
  },
  {
   "cell_type": "code",
   "execution_count": null,
   "id": "38171a70-c257-4c72-afaa-8fb66ff2d986",
   "metadata": {},
   "outputs": [],
   "source": [
    "clusterizar_e_plotar_dbscan(df_portarias_mgi, vColuna, 0.7, 5, sufixo_coluna=\"dbscan\", sufixo_grafico=\"PCA + t-SNE\")"
   ]
  },
  {
   "cell_type": "markdown",
   "id": "9a58e211-6231-41e5-a321-b7eede7d352e",
   "metadata": {},
   "source": [
    "#### 1.1.5) Redução com UMAP"
   ]
  },
  {
   "cell_type": "code",
   "execution_count": null,
   "id": "cd5954b2-a0b8-4a41-b16f-e68ce3357c00",
   "metadata": {},
   "outputs": [],
   "source": [
    "vColuna = 'USE_Embeddings1_UMAP'\n",
    "resultado_dbscan = processar_dbscan_e_clusterizar(df_portarias_mgi, vColuna, eps_values = [0.3, 0.4, 0.5], min_samples_values = [50, 60, 70, 80])\n",
    "\n",
    "# Exibir os resultados\n",
    "resultado_dbscan.head(100)"
   ]
  },
  {
   "cell_type": "code",
   "execution_count": null,
   "id": "8a05b140-b105-4075-a6a7-08340c6aac49",
   "metadata": {},
   "outputs": [],
   "source": [
    "clusterizar_e_plotar_dbscan(df_portarias_mgi, vColuna, 0.4, 70, sufixo_coluna=\"dbscan\", sufixo_grafico=\"UMAP\")"
   ]
  },
  {
   "cell_type": "markdown",
   "id": "a711828e-eb86-4ac3-8f17-1f4637c7ebc2",
   "metadata": {},
   "source": [
    "###  1.2) Com tratamento do texto"
   ]
  },
  {
   "cell_type": "markdown",
   "id": "35761a67-6682-4ff4-9a6a-781314e59c80",
   "metadata": {},
   "source": [
    "#### 1.2.1) Sem redução de dimensionalidade"
   ]
  },
  {
   "cell_type": "code",
   "execution_count": null,
   "id": "c1c8a064-98f2-45ca-b033-4dee14882654",
   "metadata": {},
   "outputs": [],
   "source": [
    "vColuna = 'USE_Embeddings4'\n",
    "resultado_dbscan = processar_dbscan_e_clusterizar(df_portarias_mgi, vColuna, eps_values = [0.3, 0.5, 0.7], min_samples_values = [5, 10, 15])\n",
    "\n",
    "# Exibir os resultados\n",
    "resultado_dbscan.head(100)"
   ]
  },
  {
   "cell_type": "code",
   "execution_count": null,
   "id": "da8a7cfb-722b-4811-8363-40903b208de2",
   "metadata": {},
   "outputs": [],
   "source": [
    "clusterizar_e_plotar_dbscan(df_portarias_mgi, vColuna, 0.3, 15, sufixo_coluna=\"dbscan\")"
   ]
  },
  {
   "cell_type": "markdown",
   "id": "216030a2-8215-46f2-8600-e2074e6a9501",
   "metadata": {},
   "source": [
    "#### 1.2.2) Redução com PCA"
   ]
  },
  {
   "cell_type": "code",
   "execution_count": null,
   "id": "fdb1d8e0-814c-431c-b918-9aac0ce9ee2e",
   "metadata": {},
   "outputs": [],
   "source": [
    "vColuna = 'USE_Embeddings4_PCA'\n",
    "resultado_dbscan = processar_dbscan_e_clusterizar(df_portarias_mgi, vColuna, eps_values = [0.3, 0.5, 0.7], min_samples_values = [5, 10, 15])\n",
    "\n",
    "# Exibir os resultados\n",
    "resultado_dbscan.head(100)"
   ]
  },
  {
   "cell_type": "code",
   "execution_count": null,
   "id": "61e5c2b7-b737-4fd6-a6de-394f5c78a97c",
   "metadata": {},
   "outputs": [],
   "source": [
    "# clusterizar_e_plotar_dbscan(df_portarias_mgi, vColuna, 0.3, 15, sufixo_coluna=\"dbscan\", sufixo_grafico=\"PCA\")"
   ]
  },
  {
   "cell_type": "markdown",
   "id": "3b0e323c-0e01-4662-9254-5b3ca172ac93",
   "metadata": {},
   "source": [
    "#### 1.2.3) Redução com t-SNE"
   ]
  },
  {
   "cell_type": "code",
   "execution_count": null,
   "id": "0ea09999-02f4-4eaf-a925-58c85c3d9142",
   "metadata": {},
   "outputs": [],
   "source": [
    "vColuna = 'USE_Embeddings4_TSNE'\n",
    "resultado_dbscan = processar_dbscan_e_clusterizar(df_portarias_mgi, vColuna, eps_values = [0.3, 0.5, 0.7], min_samples_values = [5, 10, 15])\n",
    "\n",
    "# Exibir os resultados\n",
    "resultado_dbscan.head(100)"
   ]
  },
  {
   "cell_type": "code",
   "execution_count": null,
   "id": "7d6d9d85-0d63-42f6-8c74-0c3794c0bbfc",
   "metadata": {},
   "outputs": [],
   "source": [
    "clusterizar_e_plotar_dbscan(df_portarias_mgi, vColuna, 0.7, 5, sufixo_coluna=\"dbscan\", sufixo_grafico=\"t-SNE\")"
   ]
  },
  {
   "cell_type": "markdown",
   "id": "297aff30-fa48-4599-b059-f3fab6c8646f",
   "metadata": {},
   "source": [
    "#### 1.2.4) Redução com PCA + t-SNE"
   ]
  },
  {
   "cell_type": "code",
   "execution_count": null,
   "id": "24fffa04-874a-4e73-a7a6-9b466ce6f615",
   "metadata": {},
   "outputs": [],
   "source": [
    "vColuna = 'USE_Embeddings4_PCA_TSNE'\n",
    "resultado_dbscan = processar_dbscan_e_clusterizar(df_portarias_mgi, vColuna, eps_values = [0.3, 0.5, 0.7], min_samples_values = [5, 10, 15])\n",
    "\n",
    "# Exibir os resultados\n",
    "resultado_dbscan.head(100)"
   ]
  },
  {
   "cell_type": "code",
   "execution_count": null,
   "id": "8d803387-62aa-47cf-8a2b-31cb7bf6cf96",
   "metadata": {},
   "outputs": [],
   "source": [
    "clusterizar_e_plotar_dbscan(df_portarias_mgi, vColuna, 0.7, 5, sufixo_coluna=\"dbscan\", sufixo_grafico=\"PCA + t-SNE\")"
   ]
  },
  {
   "cell_type": "markdown",
   "id": "00806188-4d43-4a89-86ff-937908b66f35",
   "metadata": {},
   "source": [
    "#### 1.2.5) Redução com UMAP"
   ]
  },
  {
   "cell_type": "code",
   "execution_count": null,
   "id": "1e9d3dc2-f9fb-40b4-a3a5-776c946cd377",
   "metadata": {},
   "outputs": [],
   "source": [
    "vColuna = 'USE_Embeddings4_UMAP'\n",
    "resultado_dbscan = processar_dbscan_e_clusterizar(df_portarias_mgi, vColuna, eps_values = [0.2, 0.3, 0.4, 0.5], min_samples_values = [10, 15, 20, 30])\n",
    "\n",
    "# Exibir os resultados\n",
    "resultado_dbscan.head(100)"
   ]
  },
  {
   "cell_type": "code",
   "execution_count": null,
   "id": "ce0d1c71-4aa1-4efc-9e94-863a8ad0a327",
   "metadata": {},
   "outputs": [],
   "source": [
    "clusterizar_e_plotar_dbscan(df_portarias_mgi, vColuna, 0.4, 30, sufixo_coluna=\"dbscan\", sufixo_grafico=\"UMAP\")"
   ]
  },
  {
   "cell_type": "markdown",
   "id": "6d00c7fa-b681-456e-b997-b1f45d67c8e2",
   "metadata": {},
   "source": [
    "## 2) Embedding Sentence-BERT (SBERT)"
   ]
  },
  {
   "cell_type": "markdown",
   "id": "8772180c-9592-4114-9923-63d9ce66d87f",
   "metadata": {},
   "source": [
    "###  2.1) Sem tratamento do texto"
   ]
  },
  {
   "cell_type": "markdown",
   "id": "7fd6e1b0-16b5-4244-a7b4-e3ce6b0ef532",
   "metadata": {},
   "source": [
    "#### 2.1.1) Sem redução de dimensionalidade"
   ]
  },
  {
   "cell_type": "code",
   "execution_count": null,
   "id": "caa093b8-2f69-441d-bc80-7fa8e73218bd",
   "metadata": {},
   "outputs": [],
   "source": [
    "vColuna = 'SBERT_Embeddings1'\n",
    "resultado_dbscan = processar_dbscan_e_clusterizar(df_portarias_mgi, vColuna, eps_values = [0.3, 0.5, 0.7], min_samples_values = [5, 10, 15])\n",
    "\n",
    "# Exibir os resultados\n",
    "resultado_dbscan.head(100)"
   ]
  },
  {
   "cell_type": "code",
   "execution_count": null,
   "id": "573f78bb-98eb-4e75-bf86-3fe59689a6d4",
   "metadata": {},
   "outputs": [],
   "source": [
    "clusterizar_e_plotar_dbscan(df_portarias_mgi, vColuna, 0.5, 5, sufixo_coluna=\"dbscan\")"
   ]
  },
  {
   "cell_type": "markdown",
   "id": "bd187626-a433-440c-b63a-b7da12b34bc2",
   "metadata": {},
   "source": [
    "#### 2.1.2) Redução com PCA"
   ]
  },
  {
   "cell_type": "code",
   "execution_count": null,
   "id": "2817bfcc-9863-4af2-b7e2-9f15d82c3281",
   "metadata": {},
   "outputs": [],
   "source": [
    "vColuna = 'SBERT_Embeddings1_PCA'\n",
    "resultado_dbscan = processar_dbscan_e_clusterizar(df_portarias_mgi, vColuna, eps_values = [0.3, 0.5, 0.7], min_samples_values = [5, 10, 15])\n",
    "\n",
    "# Exibir os resultados\n",
    "resultado_dbscan.head(100)"
   ]
  },
  {
   "cell_type": "code",
   "execution_count": null,
   "id": "838df09a-d470-4111-94fa-a1465a201104",
   "metadata": {},
   "outputs": [],
   "source": [
    "# clusterizar_e_plotar_dbscan(df_portarias_mgi, vColuna, 0.3, 15, sufixo_coluna=\"dbscan\", sufixo_grafico=\"UMAP\")"
   ]
  },
  {
   "cell_type": "markdown",
   "id": "0de81244-8361-48ce-a398-30c500f7249e",
   "metadata": {},
   "source": [
    "#### 2.1.3) Redução com t-SNE"
   ]
  },
  {
   "cell_type": "code",
   "execution_count": null,
   "id": "cf8516b4-61fa-4e15-9f3e-751c4bf4ca66",
   "metadata": {},
   "outputs": [],
   "source": [
    "vColuna = 'SBERT_Embeddings1_TSNE'\n",
    "resultado_dbscan = processar_dbscan_e_clusterizar(df_portarias_mgi, vColuna, eps_values = [0.3, 0.5, 0.7], min_samples_values = [5, 10, 15])\n",
    "\n",
    "# Exibir os resultados\n",
    "resultado_dbscan.head(100)"
   ]
  },
  {
   "cell_type": "code",
   "execution_count": null,
   "id": "6f6bc86d-97a5-4ddf-8434-e2aa9b6ad7fd",
   "metadata": {},
   "outputs": [],
   "source": [
    "clusterizar_e_plotar_dbscan(df_portarias_mgi, vColuna, 0.7, 5, sufixo_coluna=\"dbscan\", sufixo_grafico=\"t-SNE\")"
   ]
  },
  {
   "cell_type": "markdown",
   "id": "f29f32a6-bb52-4b21-b32e-16265c3519d6",
   "metadata": {},
   "source": [
    "#### 2.1.4) Redução com PCA + t-SNE"
   ]
  },
  {
   "cell_type": "code",
   "execution_count": null,
   "id": "4bbc062d-2b8d-43a1-8659-f388ae05ddc5",
   "metadata": {},
   "outputs": [],
   "source": [
    "vColuna = 'SBERT_Embeddings1_PCA_TSNE'\n",
    "resultado_dbscan = processar_dbscan_e_clusterizar(df_portarias_mgi, vColuna, eps_values = [0.3, 0.5, 0.7], min_samples_values = [5, 10, 15])\n",
    "\n",
    "# Exibir os resultados\n",
    "resultado_dbscan.head(100)"
   ]
  },
  {
   "cell_type": "code",
   "execution_count": null,
   "id": "f1547135-18f2-4a8a-abe3-cdc9f0b04d59",
   "metadata": {},
   "outputs": [],
   "source": [
    "clusterizar_e_plotar_dbscan(df_portarias_mgi, vColuna, 0.7, 5, sufixo_coluna=\"dbscan\", sufixo_grafico=\"PCA + t-SNE\")"
   ]
  },
  {
   "cell_type": "markdown",
   "id": "cf053f80-dc31-4944-8e75-382ae3685535",
   "metadata": {},
   "source": [
    "#### 2.1.5) Redução com UMAP"
   ]
  },
  {
   "cell_type": "code",
   "execution_count": null,
   "id": "0a312b9f-337b-499c-a938-ba29e531d612",
   "metadata": {},
   "outputs": [],
   "source": [
    "vColuna = 'SBERT_Embeddings1_UMAP'\n",
    "resultado_dbscan = processar_dbscan_e_clusterizar(df_portarias_mgi, vColuna, eps_values = [0.2, 0.3, 0.4, 0.5], min_samples_values = [30, 40, 50, 60])\n",
    "\n",
    "# Exibir os resultados\n",
    "resultado_dbscan.head(100)"
   ]
  },
  {
   "cell_type": "code",
   "execution_count": null,
   "id": "9988be70-955b-4fbc-a879-b962fea8e7f8",
   "metadata": {},
   "outputs": [],
   "source": [
    "clusterizar_e_plotar_dbscan(df_portarias_mgi, vColuna, 0.3, 40, sufixo_coluna=\"dbscan\", sufixo_grafico=\"UMAP\")"
   ]
  },
  {
   "cell_type": "markdown",
   "id": "2e75a91d-b1f6-4fe2-98e6-01ebef183701",
   "metadata": {},
   "source": [
    "###  2.2) Com tratamento do texto"
   ]
  },
  {
   "cell_type": "markdown",
   "id": "1f368541-f976-4b3f-8ebe-b64eecec2deb",
   "metadata": {},
   "source": [
    "#### 2.2.1) Sem redução de dimensionalidade"
   ]
  },
  {
   "cell_type": "code",
   "execution_count": null,
   "id": "e9fe63d9-426c-401b-a4f9-73db020f75ea",
   "metadata": {},
   "outputs": [],
   "source": [
    "vColuna = 'SBERT_Embeddings4'\n",
    "resultado_dbscan = processar_dbscan_e_clusterizar(df_portarias_mgi, vColuna,  eps_values = [0.2, 0.3], min_samples_values = [20, 30, 40])\n",
    "\n",
    "# Exibir os resultados\n",
    "resultado_dbscan.head(100)"
   ]
  },
  {
   "cell_type": "code",
   "execution_count": null,
   "id": "64336f35-094f-4186-89d8-805281788868",
   "metadata": {},
   "outputs": [],
   "source": [
    "clusterizar_e_plotar_dbscan(df_portarias_mgi, vColuna, 0.3, 30, sufixo_coluna=\"dbscan\")"
   ]
  },
  {
   "cell_type": "markdown",
   "id": "7b83aa6c-067f-4f4e-b0e6-8aeef362cd04",
   "metadata": {},
   "source": [
    "#### 2.2.2) Redução com PCA"
   ]
  },
  {
   "cell_type": "code",
   "execution_count": null,
   "id": "ab16ce4d-9077-4627-ae68-866717a763d3",
   "metadata": {},
   "outputs": [],
   "source": [
    "vColuna = 'SBERT_Embeddings4_PCA'\n",
    "resultado_dbscan = processar_dbscan_e_clusterizar(df_portarias_mgi, vColuna,  eps_values = [0.3, 0.5, 0.7], min_samples_values = [5, 10, 15])\n",
    "\n",
    "# Exibir os resultados\n",
    "resultado_dbscan.head(100)"
   ]
  },
  {
   "cell_type": "code",
   "execution_count": null,
   "id": "fd2e375a-feea-426e-8f50-649e2c085aa9",
   "metadata": {},
   "outputs": [],
   "source": [
    "# clusterizar_e_plotar_dbscan(df_portarias_mgi, vColuna, 0.3, 40, sufixo_coluna=\"dbscan\", sufixo_grafico=\"PCA\")"
   ]
  },
  {
   "cell_type": "markdown",
   "id": "2831a42f-2e04-4843-a312-86141708de34",
   "metadata": {},
   "source": [
    "#### 2.2.3) Redução com t-SNE"
   ]
  },
  {
   "cell_type": "code",
   "execution_count": null,
   "id": "23433d35-5f4c-4a63-87d2-c8cca23e3e1a",
   "metadata": {},
   "outputs": [],
   "source": [
    "vColuna = 'SBERT_Embeddings4_TSNE'\n",
    "resultado_dbscan = processar_dbscan_e_clusterizar(df_portarias_mgi, vColuna,  eps_values = [0.7, 0.8, 0.9], min_samples_values = [3, 5, 8])\n",
    "\n",
    "# Exibir os resultados\n",
    "resultado_dbscan.head(100)"
   ]
  },
  {
   "cell_type": "code",
   "execution_count": null,
   "id": "6f2f4cef-4614-446a-9506-44d0880c955e",
   "metadata": {},
   "outputs": [],
   "source": [
    "clusterizar_e_plotar_dbscan(df_portarias_mgi, vColuna, 0.8, 3, sufixo_coluna=\"dbscan\", sufixo_grafico=\"t-SNE\")"
   ]
  },
  {
   "cell_type": "markdown",
   "id": "68913792-9e8c-4c70-9458-c791f329df10",
   "metadata": {},
   "source": [
    "#### 2.2.4) Redução com PCA + t-SNE"
   ]
  },
  {
   "cell_type": "code",
   "execution_count": null,
   "id": "458ed665-39f2-4859-b08c-4477e3300e96",
   "metadata": {},
   "outputs": [],
   "source": [
    "vColuna = 'SBERT_Embeddings4_PCA_TSNE'\n",
    "resultado_dbscan = processar_dbscan_e_clusterizar(df_portarias_mgi, vColuna,  eps_values = [0.4, 0.5, 0.7], min_samples_values = [2, 3, 5, 8])\n",
    "\n",
    "# Exibir os resultados\n",
    "resultado_dbscan.head(100)"
   ]
  },
  {
   "cell_type": "code",
   "execution_count": null,
   "id": "46bc3f66-c591-4ac2-b734-7689d88938ca",
   "metadata": {},
   "outputs": [],
   "source": [
    "clusterizar_e_plotar_dbscan(df_portarias_mgi, vColuna, 0.5, 2, sufixo_coluna=\"dbscan\", sufixo_grafico=\"PCA + t-SNE\")"
   ]
  },
  {
   "cell_type": "markdown",
   "id": "ea37dcd8-4675-4fe7-8b9b-313bbaf302ca",
   "metadata": {},
   "source": [
    "#### 2.2.5) Redução com UMAP"
   ]
  },
  {
   "cell_type": "code",
   "execution_count": null,
   "id": "0e0d0823-6b81-4452-bfba-3e613c6863cb",
   "metadata": {},
   "outputs": [],
   "source": [
    "vColuna = 'SBERT_Embeddings4_UMAP'\n",
    "resultado_dbscan = processar_dbscan_e_clusterizar(df_portarias_mgi, vColuna, eps_values = [0.2, 0.3, 0.4, 0.5], min_samples_values = [30, 40, 50, 60])\n",
    "\n",
    "# Exibir os resultados\n",
    "resultado_dbscan.head(100)"
   ]
  },
  {
   "cell_type": "code",
   "execution_count": null,
   "id": "435aabfe-365e-4361-bb75-900536517f77",
   "metadata": {},
   "outputs": [],
   "source": [
    "clusterizar_e_plotar_dbscan(df_portarias_mgi, vColuna, 0.2, 30, sufixo_coluna=\"dbscan\", sufixo_grafico=\"UMAP\")"
   ]
  },
  {
   "cell_type": "code",
   "execution_count": null,
   "id": "2e2cb1cc-8b5e-45da-a2d9-cff834bf87b0",
   "metadata": {},
   "outputs": [],
   "source": [
    "# Salva saída parcial o arquivo completo com novas colunas\n",
    "df_portarias_mgi.to_parquet(f'./saida/06_2_DOU{secao}_portarias_mgi_tratado_NER_lematizado_embeddingsUSE_SBERT_Reducao_Kmeans_DBSCAN.parquet', engine='pyarrow', index=False)"
   ]
  }
 ],
 "metadata": {
  "kernelspec": {
   "display_name": "Python 3 (ipykernel)",
   "language": "python",
   "name": "python3"
  },
  "language_info": {
   "codemirror_mode": {
    "name": "ipython",
    "version": 3
   },
   "file_extension": ".py",
   "mimetype": "text/x-python",
   "name": "python",
   "nbconvert_exporter": "python",
   "pygments_lexer": "ipython3",
   "version": "3.11.10"
  }
 },
 "nbformat": 4,
 "nbformat_minor": 5
}
