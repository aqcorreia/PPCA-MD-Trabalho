{
 "cells": [
  {
   "cell_type": "markdown",
   "id": "10bd2f0c-3e2c-457c-97e1-7584e29b8c9c",
   "metadata": {},
   "source": [
    "## Script responsável pela remoção dos nome próprios\n",
    "\n",
    "- Este código pressupõe que a existência do arquivo **.\\saida\\02_DouSecao0<No Seção>_portarias_mgi_tratado.parquet** \n",
    "- Caso não exista, ele pode ser gerado por meio do notebook **02_Tratamento_AnaliseDescritiva.ipynb**\n",
    "- Processamento deste script:\n",
    "  - Faz a leitura do arquivo **./saida/01_DOUSecao02_completo.parquet**\n",
    "  - Filtra apenas portarias\n",
    "  - Filtra apenas portarias do MGI\n",
    "  - Cria a coluna Texto a partir da TextHTML, removento das tags html do corpo da portaria\n",
    "  - Cria a coluna Total_palavras, que exibe o total de palavras da coluna Texto\n",
    "  - Cria a coluna Ano com o ano da publicação (pubDate)\n",
    "  - Cria a coluna Mês com o mês da publicação (pubDate)\n",
    "  - Salva a saída parcial no arquivo **.\\saida\\02_DouSecao0<No Seção>_portarias_mgi_tratado.parquet** \n",
    " \n",
    "---\n"
   ]
  },
  {
   "cell_type": "markdown",
   "id": "1d5fe29c-d17b-4ba0-a298-7817f6bce4be",
   "metadata": {},
   "source": [
    "## Biblioteca"
   ]
  },
  {
   "cell_type": "code",
   "execution_count": 3,
   "id": "0e7c97b7-7b4d-4002-9138-240403740758",
   "metadata": {},
   "outputs": [],
   "source": [
    "import pandas as pd\n",
    "import string\n",
    "import spacy\n",
    "from bs4 import BeautifulSoup\n",
    "import string\n",
    "import time\n",
    "import matplotlib.pyplot as plt"
   ]
  },
  {
   "cell_type": "code",
   "execution_count": 6,
   "id": "259e9bda-ee20-46f3-a989-44f4819f1073",
   "metadata": {},
   "outputs": [
    {
     "ename": "SyntaxError",
     "evalue": "unmatched ')' (676866773.py, line 5)",
     "output_type": "error",
     "traceback": [
      "\u001b[1;36m  Cell \u001b[1;32mIn[6], line 5\u001b[1;36m\u001b[0m\n\u001b[1;33m    df_portarias_mgi = pd.read_parquetf'./saida/02_DOU{secao}_portarias_mgi_tratado.parquet', engine='pyarrow')  # ou engine='fastparquet'\u001b[0m\n\u001b[1;37m                                                                                                              ^\u001b[0m\n\u001b[1;31mSyntaxError\u001b[0m\u001b[1;31m:\u001b[0m unmatched ')'\n"
     ]
    }
   ],
   "source": [
    "douItem = 2\n",
    "secao = f'Secao0{douItem}'\n",
    "\n",
    "# Lê o arquivo Parquet\n",
    "df_portarias_mgi = pd.read_parquet(f'./saida/02_DOU{secao}_portarias_mgi_tratado.parquet', engine='pyarrow')  # ou engine='fastparquet'\n",
    "\n",
    "# Exibe as primeiras linhas do DataFrame\n",
    "df_portarias_mgi.shape\n"
   ]
  },
  {
   "cell_type": "code",
   "execution_count": null,
   "id": "6536f80a-3112-473e-b048-e50425f451a0",
   "metadata": {},
   "outputs": [],
   "source": [
    "import spacy\n",
    "import pandas as pd\n",
    "\n",
    "# Carregar o modelo de linguagem em português\n",
    "nlp = spacy.load('pt_core_news_sm')\n",
    "\n",
    "def extrair_nomes(texto):\n",
    "    doc = nlp(texto)\n",
    "    nomes = [ent.text for ent in doc.ents if ent.label_ == 'PER']\n",
    "    return ', '.join(nomes)\n",
    "\n",
    "\n",
    "# Função para remover nomes de pessoas\n",
    "def remover_nomes(texto):\n",
    "    doc = nlp(texto)\n",
    "    tokens_sem_nomes = [token.text for token in doc if token.ent_type_ != 'PER']\n",
    "    return ' '.join(tokens_sem_nomes)\n",
    "\n",
    "df_portaria_reduz = df_portaria.head(5).copy()\n",
    "\n",
    "# Aplicar a função à coluna 'Texto' e criar a coluna 'Texto_sem_nomes'\n",
    "df_portaria_reduz['Texto_sem_nomes'] = df_portaria_reduz['Texto'].apply(remover_nomes)\n",
    "\n",
    "df_portaria_reduz['Nomes'] = df_portaria_reduz['Texto'].apply(extrair_nomes)\n"
   ]
  }
 ],
 "metadata": {
  "kernelspec": {
   "display_name": "Python 3 (ipykernel)",
   "language": "python",
   "name": "python3"
  },
  "language_info": {
   "codemirror_mode": {
    "name": "ipython",
    "version": 3
   },
   "file_extension": ".py",
   "mimetype": "text/x-python",
   "name": "python",
   "nbconvert_exporter": "python",
   "pygments_lexer": "ipython3",
   "version": "3.11.10"
  }
 },
 "nbformat": 4,
 "nbformat_minor": 5
}
