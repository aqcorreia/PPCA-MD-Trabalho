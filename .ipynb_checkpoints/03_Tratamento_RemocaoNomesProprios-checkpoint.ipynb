{
 "cells": [
  {
   "cell_type": "markdown",
   "id": "10bd2f0c-3e2c-457c-97e1-7584e29b8c9c",
   "metadata": {},
   "source": [
    "## Script responsável pela remoção dos nome próprios\n",
    "\n",
    "- Este código pressupõe que a existência do arquivo **.\\saida\\02_DouSecao0<No Seção>_portarias_mgi_tratado.parquet** \n",
    "- Caso não exista, ele pode ser gerado por meio do notebook **02_Tratamento_AnaliseDescritiva.ipynb**\n",
    "- Processamento deste script:\n",
    "  - Faz a leitura do arquivo **./saida/01_DOUSecao02_completo.parquet**\n",
    "  - Filtra apenas portarias\n",
    "  - Filtra apenas portarias do MGI\n",
    "  - Cria a coluna Texto a partir da TextHTML, removento das tags html do corpo da portaria\n",
    "  - Cria a coluna Total_palavras, que exibe o total de palavras da coluna Texto\n",
    "  - Cria a coluna Ano com o ano da publicação (pubDate)\n",
    "  - Cria a coluna Mês com o mês da publicação (pubDate)\n",
    "  - Salva a saída parcial no arquivo **.\\saida\\02_DouSecao0<No Seção>_portarias_mgi_tratado.parquet** \n",
    " \n",
    "---\n"
   ]
  },
  {
   "cell_type": "markdown",
   "id": "1d5fe29c-d17b-4ba0-a298-7817f6bce4be",
   "metadata": {},
   "source": [
    "## Biblioteca"
   ]
  },
  {
   "cell_type": "code",
   "execution_count": 1,
   "id": "0e7c97b7-7b4d-4002-9138-240403740758",
   "metadata": {},
   "outputs": [],
   "source": [
    "import pandas as pd\n",
    "import string\n",
    "import spacy\n",
    "from bs4 import BeautifulSoup\n",
    "import string\n",
    "import time\n",
    "import matplotlib.pyplot as plt"
   ]
  },
  {
   "cell_type": "code",
   "execution_count": 2,
   "id": "259e9bda-ee20-46f3-a989-44f4819f1073",
   "metadata": {},
   "outputs": [
    {
     "data": {
      "text/plain": [
       "(19258, 31)"
      ]
     },
     "execution_count": 2,
     "metadata": {},
     "output_type": "execute_result"
    }
   ],
   "source": [
    "douItem = 2\n",
    "secao = f'Secao0{douItem}'\n",
    "\n",
    "# Lê o arquivo Parquet\n",
    "df_portarias_mgi = pd.read_parquet(f'./saida/02_DOU{secao}_portarias_mgi_tratado.parquet', engine='pyarrow')  # ou engine='fastparquet'\n",
    "\n",
    "# Exibe as primeiras linhas do DataFrame\n",
    "df_portarias_mgi.shape\n"
   ]
  },
  {
   "cell_type": "code",
   "execution_count": null,
   "id": "6536f80a-3112-473e-b048-e50425f451a0",
   "metadata": {},
   "outputs": [
    {
     "name": "stdout",
     "output_type": "stream",
     "text": [
      "Tratando de 1 a 200\n",
      "Tratando de 201 a 400\n",
      "Tratando de 401 a 600\n",
      "Tratando de 601 a 800\n",
      "Tratando de 801 a 1000\n",
      "Tratando de 1001 a 1200\n",
      "Tratando de 1201 a 1400\n",
      "Tratando de 1401 a 1600\n",
      "Tratando de 1601 a 1800\n",
      "Tratando de 1801 a 2000\n",
      "Tratando de 2001 a 2200\n",
      "Tratando de 2201 a 2400\n",
      "Tratando de 2401 a 2600\n",
      "Tratando de 2601 a 2800\n",
      "Tratando de 2801 a 3000\n",
      "Tratando de 3001 a 3200\n",
      "Tratando de 3201 a 3400\n",
      "Tratando de 3401 a 3600\n",
      "Tratando de 3601 a 3800\n",
      "Tratando de 3801 a 4000\n",
      "Tratando de 4001 a 4200\n",
      "Tratando de 4201 a 4400\n",
      "Tratando de 4401 a 4600\n",
      "Tratando de 4601 a 4800\n",
      "Tratando de 4801 a 5000\n",
      "Tratando de 5001 a 5200\n",
      "Tratando de 5201 a 5400\n",
      "Tratando de 5401 a 5600\n",
      "Tratando de 5601 a 5800\n",
      "Tratando de 5801 a 6000\n",
      "Tratando de 6001 a 6200\n",
      "Tratando de 6201 a 6400\n",
      "Tratando de 6401 a 6600\n",
      "Tratando de 6601 a 6800\n",
      "Tratando de 6801 a 7000\n",
      "Tratando de 7001 a 7200\n",
      "Tratando de 7201 a 7400\n",
      "Tratando de 7401 a 7600\n",
      "Tratando de 7601 a 7800\n",
      "Tratando de 7801 a 8000\n",
      "Tratando de 8001 a 8200\n",
      "Tratando de 8201 a 8400\n",
      "Tratando de 8401 a 8600\n",
      "Tratando de 8601 a 8800\n",
      "Tratando de 8801 a 9000\n",
      "Tratando de 9001 a 9200\n",
      "Tratando de 9201 a 9400\n",
      "Tratando de 9401 a 9600\n",
      "Tratando de 9601 a 9800\n",
      "Tratando de 9801 a 10000\n",
      "Tratando de 10001 a 10200\n",
      "Tratando de 10201 a 10400\n",
      "Tratando de 10401 a 10600\n",
      "Tratando de 10601 a 10800\n",
      "Tratando de 10801 a 11000\n",
      "Tratando de 11001 a 11200\n",
      "Tratando de 11201 a 11400\n",
      "Tratando de 11401 a 11600\n",
      "Tratando de 11601 a 11800\n"
     ]
    }
   ],
   "source": [
    "# Carregar o modelo de linguagem em português.\n",
    "nlp = spacy.load('pt_core_news_sm')\n",
    "\n",
    "def extrair_nomes(texto):\n",
    "    \"\"\"\n",
    "    Extrai nomes (entidades do tipo PER) do texto.\n",
    "    Exclui nomes que começam com determinados prefixos, desconsiderando o case.\n",
    "    \"\"\"\n",
    "    # Processar o texto com o modelo spaCy\n",
    "    doc = nlp(texto)\n",
    "\n",
    "    # Extrair entidades rotuladas como \"PER\" (Pessoas)\n",
    "    nomes = [ent.text for ent in doc.ents if ent.label_ == 'PER']\n",
    "\n",
    "    # Filtrar nomes para excluir aqueles que começam com os prefixos indesejados\n",
    "    prefixos_indesejados = ('administração', 'administrador', 'analista', 'anexo', 'cargo', 'apto', 'arquiteta', 'arquivista',\n",
    "                            'arquivologia', 'arquivos', 'arts', 'artífice', 'ascensorista', 'assessor', 'assessora', 'assistente', \n",
    "                            'auditor', 'autoriza', 'auxiliar', 'bi', 'bancada', 'bancário', 'carteiro', 'carpinteiro', \n",
    "                            'cartório', 'celetista', 'chefe', 'conceder', 'coordenador', 'coordenadora', 'coordenador-geral', \n",
    "                            'comissionada', 'dataprev', 'decreto', 'designar', 'diretor', 'diretoria', \n",
    "                            'escrivão', 'especializado', 'inciso', 'instituidor', 'lei','parágrafo', 'patrimônio', 'professor',\n",
    "                            'órgão', 'órgãos', 'úteis')\n",
    "    nomes_filtrados = [\n",
    "        nome for nome in nomes \n",
    "        if not nome.lower().startswith(prefixos_indesejados)\n",
    "    ]\n",
    "\n",
    "    # Retornar os nomes filtrados como uma única string, separados por vírgulas\n",
    "    return ', '.join(nomes_filtrados)\n",
    "\n",
    "\n",
    "\n",
    "# Função para remover nomes de pessoas\n",
    "def remover_nomes(texto):\n",
    "    doc = nlp(texto)\n",
    "    tokens_sem_nomes = [token.text for token in doc if token.ent_type_ != 'PER']\n",
    "    return ' '.join(tokens_sem_nomes)\n",
    "\n",
    "# Configurar o tamanho do bloco\n",
    "tamanho_bloco = 200\n",
    "\n",
    "# Inicializar colunas para os resultados\n",
    "df_portarias_mgi['Texto_sem_nomes'] = None\n",
    "df_portarias_mgi['Nomes'] = None\n",
    "\n",
    "# Medir o tempo total de execução\n",
    "inicio_tempo_total = time.time()\n",
    "\n",
    "# Processar em blocos\n",
    "for inicio in range(0, len(df_portarias_mgi), tamanho_bloco):\n",
    "    fim = min(inicio + tamanho_bloco, len(df_portarias_mgi))  # Define o limite superior do bloco\n",
    "    print(f\"Tratando de {inicio + 1} a {fim}\")\n",
    "    \n",
    "    # Selecionar o bloco atual\n",
    "    bloco = df_portarias_mgi.iloc[inicio:fim]\n",
    "\n",
    "    # Aplicar as funções ao bloco\n",
    "    df_portarias_mgi.loc[inicio:fim - 1, 'Texto_sem_nomes'] = bloco['Texto'].apply(remover_nomes)\n",
    "    df_portarias_mgi.loc[inicio:fim - 1, 'Nomes'] = bloco['Texto'].apply(extrair_nomes)\n",
    "\n",
    "# Medir o tempo final\n",
    "fim_tempo_total = time.time()\n",
    "\n",
    "# Calcular o tempo total de execução\n",
    "tempo_execucao_total = fim_tempo_total - inicio_tempo_total\n",
    "print(f\"Tempo total de execução: {tempo_execucao_total:.2f} segundos\")\n"
   ]
  },
  {
   "cell_type": "code",
   "execution_count": null,
   "id": "31c6ca7b-e88c-432a-8094-0e61d129d7ab",
   "metadata": {},
   "outputs": [],
   "source": [
    "df_portarias_mgi.shape"
   ]
  },
  {
   "cell_type": "code",
   "execution_count": null,
   "id": "48923cba-4435-4875-a331-51944733ac6f",
   "metadata": {},
   "outputs": [],
   "source": [
    "# Salva saída parcial o arquivo completo com novas colunas\n",
    "df_portarias_mgi.to_parquet(f'./saida/03_DOU{secao}_portarias_mgi_tratado_NER.parquet', engine='pyarrow', index=False)"
   ]
  },
  {
   "cell_type": "code",
   "execution_count": null,
   "id": "942d5423-b268-474a-8cb0-de31e89b6c49",
   "metadata": {},
   "outputs": [],
   "source": [
    "df_portarias_mgi.head()"
   ]
  },
  {
   "cell_type": "code",
   "execution_count": null,
   "id": "a3628b12-04c4-4512-8eaf-45e86202e37e",
   "metadata": {},
   "outputs": [],
   "source": [
    "# Separar os nomes individuais, removendo espaços extras e ignorando valores vazios\n",
    "nomes_distintos = (\n",
    "    df_portarias_mgi['Nomes']\n",
    "    .dropna()  # Remover valores NaN\n",
    "    .str.split(',')  # Dividir os nomes por vírgulas\n",
    "    .explode()  # Expandir os nomes em linhas separadas\n",
    "    .str.strip()  # Remover espaços em branco\n",
    "    .drop_duplicates()  # Remover valores duplicados\n",
    "    .sort_values()  # Ordenar os nomes\n",
    ")\n",
    "\n",
    "# Exibir os nomes distintos\n",
    "print(\"Nomes distintos encontrados na coluna 'Nomes':\")\n",
    "# print(nomes_distintos.tolist())\n"
   ]
  },
  {
   "cell_type": "code",
   "execution_count": null,
   "id": "81a97d10-da73-4af3-8036-c998ad5800aa",
   "metadata": {},
   "outputs": [],
   "source": [
    "# Contar o total de nomes distintos\n",
    "total_nomes = nomes_distintos.nunique()\n",
    "\n",
    "# Exibir o total de nomes distintos\n",
    "print(f\"Total de nomes distintos encontrados: {total_nomes}\")"
   ]
  },
  {
   "cell_type": "code",
   "execution_count": null,
   "id": "e5229af6-bc16-400f-bb53-28f2990e5e6f",
   "metadata": {},
   "outputs": [],
   "source": [
    "# Salvar os nomes distintos em um arquivo Excel\n",
    "nomes_distintos.to_excel('nomes_distintos.xlsx', index=False, header=['Nomes'])\n",
    "\n",
    "print(\"Os nomes distintos foram salvos no arquivo 'nomes_distintos.xlsx'.\")\n"
   ]
  },
  {
   "cell_type": "code",
   "execution_count": null,
   "id": "4e45eb13-a134-4d75-880a-de0f18290ce4",
   "metadata": {},
   "outputs": [],
   "source": []
  }
 ],
 "metadata": {
  "kernelspec": {
   "display_name": "Python 3 (ipykernel)",
   "language": "python",
   "name": "python3"
  },
  "language_info": {
   "codemirror_mode": {
    "name": "ipython",
    "version": 3
   },
   "file_extension": ".py",
   "mimetype": "text/x-python",
   "name": "python",
   "nbconvert_exporter": "python",
   "pygments_lexer": "ipython3",
   "version": "3.11.10"
  }
 },
 "nbformat": 4,
 "nbformat_minor": 5
}
