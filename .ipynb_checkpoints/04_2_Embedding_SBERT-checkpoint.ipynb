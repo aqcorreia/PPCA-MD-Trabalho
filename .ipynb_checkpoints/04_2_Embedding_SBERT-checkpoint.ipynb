{
 "cells": [
  {
   "cell_type": "markdown",
   "id": "91e07464-a6b1-48b0-9af3-ad50117c16b3",
   "metadata": {},
   "source": [
    "## Bibliotecas"
   ]
  },
  {
   "cell_type": "code",
   "execution_count": 1,
   "id": "edd4c9ca-7858-492d-a8c1-07932a0184cf",
   "metadata": {},
   "outputs": [
    {
     "name": "stdout",
     "output_type": "stream",
     "text": [
      "WARNING:tensorflow:From C:\\Users\\aqcor\\anaconda3\\envs\\PPCA_MD\\Lib\\site-packages\\tf_keras\\src\\losses.py:2976: The name tf.losses.sparse_softmax_cross_entropy is deprecated. Please use tf.compat.v1.losses.sparse_softmax_cross_entropy instead.\n",
      "\n"
     ]
    }
   ],
   "source": [
    "import pandas as pd\n",
    "from sentence_transformers import SentenceTransformer\n",
    "import numpy as np\n",
    "import time"
   ]
  },
  {
   "cell_type": "code",
   "execution_count": 2,
   "id": "676c9856-28b1-4280-922e-8328f1672ff0",
   "metadata": {},
   "outputs": [
    {
     "data": {
      "text/plain": [
       "(19258, 35)"
      ]
     },
     "execution_count": 2,
     "metadata": {},
     "output_type": "execute_result"
    }
   ],
   "source": [
    "douItem = 2\n",
    "secao = f'Secao0{douItem}'\n",
    "\n",
    "# Lê o arquivo Parquet\n",
    "df_portarias_mgi = pd.read_parquet(f'./saida/03_3_DOU{secao}_portarias_mgi_tratado_NER_lematizado.parquet', engine='pyarrow')  # ou engine='fastparquet'\n",
    "\n",
    "# Exibe as primeiras linhas do DataFrame\n",
    "df_portarias_mgi.shape\n"
   ]
  },
  {
   "cell_type": "code",
   "execution_count": 4,
   "id": "0a324349-6adb-4f4c-a190-ba0263e71c17",
   "metadata": {},
   "outputs": [
    {
     "data": {
      "text/html": [
       "<div>\n",
       "<style scoped>\n",
       "    .dataframe tbody tr th:only-of-type {\n",
       "        vertical-align: middle;\n",
       "    }\n",
       "\n",
       "    .dataframe tbody tr th {\n",
       "        vertical-align: top;\n",
       "    }\n",
       "\n",
       "    .dataframe thead th {\n",
       "        text-align: right;\n",
       "    }\n",
       "</style>\n",
       "<table border=\"1\" class=\"dataframe\">\n",
       "  <thead>\n",
       "    <tr style=\"text-align: right;\">\n",
       "      <th></th>\n",
       "      <th>id</th>\n",
       "      <th>name</th>\n",
       "      <th>idOficio</th>\n",
       "      <th>pubName</th>\n",
       "      <th>artType</th>\n",
       "      <th>pubDate</th>\n",
       "      <th>artClass</th>\n",
       "      <th>artCategory</th>\n",
       "      <th>artSize</th>\n",
       "      <th>artNotes</th>\n",
       "      <th>...</th>\n",
       "      <th>file_name</th>\n",
       "      <th>zip_name</th>\n",
       "      <th>Ano</th>\n",
       "      <th>Mes</th>\n",
       "      <th>Texto</th>\n",
       "      <th>Total_palavras</th>\n",
       "      <th>TextoTratado</th>\n",
       "      <th>TextoTratado_TotalPalavras</th>\n",
       "      <th>TextoTratadoLemmatized</th>\n",
       "      <th>TextoTratadoLemmatized_TotalPalavras</th>\n",
       "    </tr>\n",
       "  </thead>\n",
       "  <tbody>\n",
       "    <tr>\n",
       "      <th>0</th>\n",
       "      <td>30266027</td>\n",
       "      <td>PORTARIA DE PESSOAL 529</td>\n",
       "      <td>9368436</td>\n",
       "      <td>DO2</td>\n",
       "      <td>Portaria</td>\n",
       "      <td>2023-01-25</td>\n",
       "      <td>00028:00006:00000:00000:00000:00000:00000:0000...</td>\n",
       "      <td>Ministério da Gestão e da Inovação em Serviços...</td>\n",
       "      <td>12</td>\n",
       "      <td></td>\n",
       "      <td>...</td>\n",
       "      <td>S02012023/529_20230125_20280233.xml.xml</td>\n",
       "      <td>S02012023.zip</td>\n",
       "      <td>2023</td>\n",
       "      <td>1</td>\n",
       "      <td>PORTARIA DE PESSOAL SGP/SEDGG/ME Nº 529, DE 17...</td>\n",
       "      <td>358</td>\n",
       "      <td>portaria de pessoal sgp/sedgg/me nº 529, de 17...</td>\n",
       "      <td>363</td>\n",
       "      <td>portaria pessoal sgp Sedgg nº 529 17 janeiro 2...</td>\n",
       "      <td>190</td>\n",
       "    </tr>\n",
       "    <tr>\n",
       "      <th>1</th>\n",
       "      <td>30264410</td>\n",
       "      <td>ATO PORTARIA 655</td>\n",
       "      <td>9368530</td>\n",
       "      <td>DO2</td>\n",
       "      <td>Portaria</td>\n",
       "      <td>2023-01-25</td>\n",
       "      <td>00028:00006:00000:00000:00000:00000:00000:0000...</td>\n",
       "      <td>Ministério da Gestão e da Inovação em Serviços...</td>\n",
       "      <td>12</td>\n",
       "      <td></td>\n",
       "      <td>...</td>\n",
       "      <td>S02012023/529_20230125_20280363.xml.xml</td>\n",
       "      <td>S02012023.zip</td>\n",
       "      <td>2023</td>\n",
       "      <td>1</td>\n",
       "      <td>PORTARIA SGP/SEDGG/ME Nº 655, DE 23 DE JANEIRO...</td>\n",
       "      <td>245</td>\n",
       "      <td>portaria sgp/sedgg/me nº 655, de 23 de janeiro...</td>\n",
       "      <td>248</td>\n",
       "      <td>portar sgp Sedgg nº 655 23 janeiro 2023 secret...</td>\n",
       "      <td>131</td>\n",
       "    </tr>\n",
       "    <tr>\n",
       "      <th>2</th>\n",
       "      <td>30265009</td>\n",
       "      <td>ATO PORTARIA DE PESSOAL 461</td>\n",
       "      <td>9368536</td>\n",
       "      <td>DO2</td>\n",
       "      <td>Portaria</td>\n",
       "      <td>2023-01-25</td>\n",
       "      <td>00028:00006:00000:00000:00000:00000:00000:0000...</td>\n",
       "      <td>Ministério da Gestão e da Inovação em Serviços...</td>\n",
       "      <td>12</td>\n",
       "      <td></td>\n",
       "      <td>...</td>\n",
       "      <td>S02012023/529_20230125_20280370.xml.xml</td>\n",
       "      <td>S02012023.zip</td>\n",
       "      <td>2023</td>\n",
       "      <td>1</td>\n",
       "      <td>PORTARIA DE PESSOAL SGP/SEDGG/ME Nº 461, DE 16...</td>\n",
       "      <td>251</td>\n",
       "      <td>portaria de pessoal sgp/sedgg/me nº 461, de 16...</td>\n",
       "      <td>254</td>\n",
       "      <td>portaria pessoal sgp Sedgg nº 461 16 janeiro 2...</td>\n",
       "      <td>133</td>\n",
       "    </tr>\n",
       "    <tr>\n",
       "      <th>3</th>\n",
       "      <td>30265678</td>\n",
       "      <td>ATO PORTARIA DE PESSOAL SGP 606</td>\n",
       "      <td>9368541</td>\n",
       "      <td>DO2</td>\n",
       "      <td>Portaria</td>\n",
       "      <td>2023-01-25</td>\n",
       "      <td>00028:00006:00000:00000:00000:00000:00000:0000...</td>\n",
       "      <td>Ministério da Gestão e da Inovação em Serviços...</td>\n",
       "      <td>12</td>\n",
       "      <td></td>\n",
       "      <td>...</td>\n",
       "      <td>S02012023/529_20230125_20280375.xml.xml</td>\n",
       "      <td>S02012023.zip</td>\n",
       "      <td>2023</td>\n",
       "      <td>1</td>\n",
       "      <td>PORTARIA DE PESSOAL SGP/SEDGG/ME Nº 606, DE 19...</td>\n",
       "      <td>251</td>\n",
       "      <td>portaria de pessoal sgp/sedgg/me nº 606, de 19...</td>\n",
       "      <td>253</td>\n",
       "      <td>portaria pessoal sgp Sedgg nº 606 19 janeiro 2...</td>\n",
       "      <td>135</td>\n",
       "    </tr>\n",
       "    <tr>\n",
       "      <th>4</th>\n",
       "      <td>30266030</td>\n",
       "      <td>ATO PORTARIA DE PESSOAL SGP 517</td>\n",
       "      <td>9368573</td>\n",
       "      <td>DO2</td>\n",
       "      <td>Portaria</td>\n",
       "      <td>2023-01-25</td>\n",
       "      <td>00028:00006:00000:00000:00000:00000:00000:0000...</td>\n",
       "      <td>Ministério da Gestão e da Inovação em Serviços...</td>\n",
       "      <td>12</td>\n",
       "      <td></td>\n",
       "      <td>...</td>\n",
       "      <td>S02012023/529_20230125_20280390.xml.xml</td>\n",
       "      <td>S02012023.zip</td>\n",
       "      <td>2023</td>\n",
       "      <td>1</td>\n",
       "      <td>PORTARIA DE PESSOAL SGP/SEDGG/ME Nº 517, DE 17...</td>\n",
       "      <td>243</td>\n",
       "      <td>portaria de pessoal sgp/sedgg/me nº 517, de 17...</td>\n",
       "      <td>245</td>\n",
       "      <td>portaria pessoal sgp Sedgg nº 517 17 janeiro 2...</td>\n",
       "      <td>132</td>\n",
       "    </tr>\n",
       "  </tbody>\n",
       "</table>\n",
       "<p>5 rows × 35 columns</p>\n",
       "</div>"
      ],
      "text/plain": [
       "         id                             name idOficio pubName   artType  \\\n",
       "0  30266027          PORTARIA DE PESSOAL 529  9368436     DO2  Portaria   \n",
       "1  30264410                 ATO PORTARIA 655  9368530     DO2  Portaria   \n",
       "2  30265009      ATO PORTARIA DE PESSOAL 461  9368536     DO2  Portaria   \n",
       "3  30265678  ATO PORTARIA DE PESSOAL SGP 606  9368541     DO2  Portaria   \n",
       "4  30266030  ATO PORTARIA DE PESSOAL SGP 517  9368573     DO2  Portaria   \n",
       "\n",
       "     pubDate                                           artClass  \\\n",
       "0 2023-01-25  00028:00006:00000:00000:00000:00000:00000:0000...   \n",
       "1 2023-01-25  00028:00006:00000:00000:00000:00000:00000:0000...   \n",
       "2 2023-01-25  00028:00006:00000:00000:00000:00000:00000:0000...   \n",
       "3 2023-01-25  00028:00006:00000:00000:00000:00000:00000:0000...   \n",
       "4 2023-01-25  00028:00006:00000:00000:00000:00000:00000:0000...   \n",
       "\n",
       "                                         artCategory artSize artNotes  ...  \\\n",
       "0  Ministério da Gestão e da Inovação em Serviços...      12           ...   \n",
       "1  Ministério da Gestão e da Inovação em Serviços...      12           ...   \n",
       "2  Ministério da Gestão e da Inovação em Serviços...      12           ...   \n",
       "3  Ministério da Gestão e da Inovação em Serviços...      12           ...   \n",
       "4  Ministério da Gestão e da Inovação em Serviços...      12           ...   \n",
       "\n",
       "                                 file_name       zip_name   Ano Mes  \\\n",
       "0  S02012023/529_20230125_20280233.xml.xml  S02012023.zip  2023   1   \n",
       "1  S02012023/529_20230125_20280363.xml.xml  S02012023.zip  2023   1   \n",
       "2  S02012023/529_20230125_20280370.xml.xml  S02012023.zip  2023   1   \n",
       "3  S02012023/529_20230125_20280375.xml.xml  S02012023.zip  2023   1   \n",
       "4  S02012023/529_20230125_20280390.xml.xml  S02012023.zip  2023   1   \n",
       "\n",
       "                                               Texto Total_palavras  \\\n",
       "0  PORTARIA DE PESSOAL SGP/SEDGG/ME Nº 529, DE 17...            358   \n",
       "1  PORTARIA SGP/SEDGG/ME Nº 655, DE 23 DE JANEIRO...            245   \n",
       "2  PORTARIA DE PESSOAL SGP/SEDGG/ME Nº 461, DE 16...            251   \n",
       "3  PORTARIA DE PESSOAL SGP/SEDGG/ME Nº 606, DE 19...            251   \n",
       "4  PORTARIA DE PESSOAL SGP/SEDGG/ME Nº 517, DE 17...            243   \n",
       "\n",
       "                                        TextoTratado  \\\n",
       "0  portaria de pessoal sgp/sedgg/me nº 529, de 17...   \n",
       "1  portaria sgp/sedgg/me nº 655, de 23 de janeiro...   \n",
       "2  portaria de pessoal sgp/sedgg/me nº 461, de 16...   \n",
       "3  portaria de pessoal sgp/sedgg/me nº 606, de 19...   \n",
       "4  portaria de pessoal sgp/sedgg/me nº 517, de 17...   \n",
       "\n",
       "  TextoTratado_TotalPalavras  \\\n",
       "0                        363   \n",
       "1                        248   \n",
       "2                        254   \n",
       "3                        253   \n",
       "4                        245   \n",
       "\n",
       "                              TextoTratadoLemmatized  \\\n",
       "0  portaria pessoal sgp Sedgg nº 529 17 janeiro 2...   \n",
       "1  portar sgp Sedgg nº 655 23 janeiro 2023 secret...   \n",
       "2  portaria pessoal sgp Sedgg nº 461 16 janeiro 2...   \n",
       "3  portaria pessoal sgp Sedgg nº 606 19 janeiro 2...   \n",
       "4  portaria pessoal sgp Sedgg nº 517 17 janeiro 2...   \n",
       "\n",
       "  TextoTratadoLemmatized_TotalPalavras  \n",
       "0                                  190  \n",
       "1                                  131  \n",
       "2                                  133  \n",
       "3                                  135  \n",
       "4                                  132  \n",
       "\n",
       "[5 rows x 35 columns]"
      ]
     },
     "execution_count": 4,
     "metadata": {},
     "output_type": "execute_result"
    }
   ],
   "source": [
    "df_portarias_mgi.head()"
   ]
  },
  {
   "cell_type": "code",
   "execution_count": 5,
   "id": "f802c9eb-0496-4c73-94f3-d891ed1adea9",
   "metadata": {},
   "outputs": [
    {
     "data": {
      "application/vnd.jupyter.widget-view+json": {
       "model_id": "74ea171c9f654cac91277d2852200507",
       "version_major": 2,
       "version_minor": 0
      },
      "text/plain": [
       "modules.json:   0%|          | 0.00/349 [00:00<?, ?B/s]"
      ]
     },
     "metadata": {},
     "output_type": "display_data"
    },
    {
     "name": "stderr",
     "output_type": "stream",
     "text": [
      "C:\\Users\\aqcor\\anaconda3\\envs\\PPCA_MD\\Lib\\site-packages\\huggingface_hub\\file_download.py:139: UserWarning: `huggingface_hub` cache-system uses symlinks by default to efficiently store duplicated files but your machine does not support them in C:\\Users\\aqcor\\.cache\\huggingface\\hub\\models--sentence-transformers--all-MiniLM-L6-v2. Caching files will still work but in a degraded version that might require more space on your disk. This warning can be disabled by setting the `HF_HUB_DISABLE_SYMLINKS_WARNING` environment variable. For more details, see https://huggingface.co/docs/huggingface_hub/how-to-cache#limitations.\n",
      "To support symlinks on Windows, you either need to activate Developer Mode or to run Python as an administrator. In order to activate developer mode, see this article: https://docs.microsoft.com/en-us/windows/apps/get-started/enable-your-device-for-development\n",
      "  warnings.warn(message)\n"
     ]
    },
    {
     "data": {
      "application/vnd.jupyter.widget-view+json": {
       "model_id": "3fff8a9d902a4fb18e5b4366c5166dfb",
       "version_major": 2,
       "version_minor": 0
      },
      "text/plain": [
       "config_sentence_transformers.json:   0%|          | 0.00/116 [00:00<?, ?B/s]"
      ]
     },
     "metadata": {},
     "output_type": "display_data"
    },
    {
     "data": {
      "application/vnd.jupyter.widget-view+json": {
       "model_id": "db154fe2027f446ca1d33862c4f7aae6",
       "version_major": 2,
       "version_minor": 0
      },
      "text/plain": [
       "README.md:   0%|          | 0.00/10.7k [00:00<?, ?B/s]"
      ]
     },
     "metadata": {},
     "output_type": "display_data"
    },
    {
     "data": {
      "application/vnd.jupyter.widget-view+json": {
       "model_id": "1d94b0cf10a24ae3ba43fd76875b4512",
       "version_major": 2,
       "version_minor": 0
      },
      "text/plain": [
       "sentence_bert_config.json:   0%|          | 0.00/53.0 [00:00<?, ?B/s]"
      ]
     },
     "metadata": {},
     "output_type": "display_data"
    },
    {
     "data": {
      "application/vnd.jupyter.widget-view+json": {
       "model_id": "0a6143f7df2d46eb8c53438544ca1998",
       "version_major": 2,
       "version_minor": 0
      },
      "text/plain": [
       "config.json:   0%|          | 0.00/612 [00:00<?, ?B/s]"
      ]
     },
     "metadata": {},
     "output_type": "display_data"
    },
    {
     "data": {
      "application/vnd.jupyter.widget-view+json": {
       "model_id": "eadcd4c7c88b4edb854d7aca073bdfdc",
       "version_major": 2,
       "version_minor": 0
      },
      "text/plain": [
       "model.safetensors:   0%|          | 0.00/90.9M [00:00<?, ?B/s]"
      ]
     },
     "metadata": {},
     "output_type": "display_data"
    },
    {
     "data": {
      "application/vnd.jupyter.widget-view+json": {
       "model_id": "4d723736002d4049a75e424cf54cb34c",
       "version_major": 2,
       "version_minor": 0
      },
      "text/plain": [
       "tokenizer_config.json:   0%|          | 0.00/350 [00:00<?, ?B/s]"
      ]
     },
     "metadata": {},
     "output_type": "display_data"
    },
    {
     "data": {
      "application/vnd.jupyter.widget-view+json": {
       "model_id": "f20a0243e3544077a9fbb2c03850a84f",
       "version_major": 2,
       "version_minor": 0
      },
      "text/plain": [
       "vocab.txt:   0%|          | 0.00/232k [00:00<?, ?B/s]"
      ]
     },
     "metadata": {},
     "output_type": "display_data"
    },
    {
     "data": {
      "application/vnd.jupyter.widget-view+json": {
       "model_id": "4c4aa848a6434ad7b5f5f2183390893a",
       "version_major": 2,
       "version_minor": 0
      },
      "text/plain": [
       "tokenizer.json:   0%|          | 0.00/466k [00:00<?, ?B/s]"
      ]
     },
     "metadata": {},
     "output_type": "display_data"
    },
    {
     "data": {
      "application/vnd.jupyter.widget-view+json": {
       "model_id": "082e70b310324e90bd3e77b954a0e486",
       "version_major": 2,
       "version_minor": 0
      },
      "text/plain": [
       "special_tokens_map.json:   0%|          | 0.00/112 [00:00<?, ?B/s]"
      ]
     },
     "metadata": {},
     "output_type": "display_data"
    },
    {
     "data": {
      "application/vnd.jupyter.widget-view+json": {
       "model_id": "47046ca5e84e456aa8716a4cb18e3194",
       "version_major": 2,
       "version_minor": 0
      },
      "text/plain": [
       "1_Pooling/config.json:   0%|          | 0.00/190 [00:00<?, ?B/s]"
      ]
     },
     "metadata": {},
     "output_type": "display_data"
    },
    {
     "name": "stdout",
     "output_type": "stream",
     "text": [
      "Início do processamento de embeddings em blocos...\n",
      "Processando registros de índice 0 até 199...\n",
      "Processando registros de índice 200 até 399...\n",
      "Processando registros de índice 400 até 599...\n",
      "Processando registros de índice 600 até 799...\n",
      "Processando registros de índice 800 até 999...\n",
      "Processando registros de índice 1000 até 1199...\n",
      "Processando registros de índice 1200 até 1399...\n",
      "Processando registros de índice 1400 até 1599...\n",
      "Processando registros de índice 1600 até 1799...\n",
      "Processando registros de índice 1800 até 1999...\n",
      "Processando registros de índice 2000 até 2199...\n",
      "Processando registros de índice 2200 até 2399...\n",
      "Processando registros de índice 2400 até 2599...\n",
      "Processando registros de índice 2600 até 2799...\n",
      "Processando registros de índice 2800 até 2999...\n",
      "Processando registros de índice 3000 até 3199...\n",
      "Processando registros de índice 3200 até 3399...\n",
      "Processando registros de índice 3400 até 3599...\n",
      "Processando registros de índice 3600 até 3799...\n",
      "Processando registros de índice 3800 até 3999...\n",
      "Processando registros de índice 4000 até 4199...\n",
      "Processando registros de índice 4200 até 4399...\n",
      "Processando registros de índice 4400 até 4599...\n",
      "Processando registros de índice 4600 até 4799...\n",
      "Processando registros de índice 4800 até 4999...\n",
      "Processando registros de índice 5000 até 5199...\n",
      "Processando registros de índice 5200 até 5399...\n",
      "Processando registros de índice 5400 até 5599...\n",
      "Processando registros de índice 5600 até 5799...\n",
      "Processando registros de índice 5800 até 5999...\n",
      "Processando registros de índice 6000 até 6199...\n",
      "Processando registros de índice 6200 até 6399...\n",
      "Processando registros de índice 6400 até 6599...\n",
      "Processando registros de índice 6600 até 6799...\n",
      "Processando registros de índice 6800 até 6999...\n",
      "Processando registros de índice 7000 até 7199...\n",
      "Processando registros de índice 7200 até 7399...\n",
      "Processando registros de índice 7400 até 7599...\n",
      "Processando registros de índice 7600 até 7799...\n",
      "Processando registros de índice 7800 até 7999...\n",
      "Processando registros de índice 8000 até 8199...\n",
      "Processando registros de índice 8200 até 8399...\n",
      "Processando registros de índice 8400 até 8599...\n",
      "Processando registros de índice 8600 até 8799...\n",
      "Processando registros de índice 8800 até 8999...\n",
      "Processando registros de índice 9000 até 9199...\n",
      "Processando registros de índice 9200 até 9399...\n",
      "Processando registros de índice 9400 até 9599...\n",
      "Processando registros de índice 9600 até 9799...\n",
      "Processando registros de índice 9800 até 9999...\n",
      "Processando registros de índice 10000 até 10199...\n",
      "Processando registros de índice 10200 até 10399...\n",
      "Processando registros de índice 10400 até 10599...\n",
      "Processando registros de índice 10600 até 10799...\n",
      "Processando registros de índice 10800 até 10999...\n",
      "Processando registros de índice 11000 até 11199...\n",
      "Processando registros de índice 11200 até 11399...\n",
      "Processando registros de índice 11400 até 11599...\n",
      "Processando registros de índice 11600 até 11799...\n",
      "Processando registros de índice 11800 até 11999...\n",
      "Processando registros de índice 12000 até 12199...\n",
      "Processando registros de índice 12200 até 12399...\n",
      "Processando registros de índice 12400 até 12599...\n",
      "Processando registros de índice 12600 até 12799...\n",
      "Processando registros de índice 12800 até 12999...\n",
      "Processando registros de índice 13000 até 13199...\n",
      "Processando registros de índice 13200 até 13399...\n",
      "Processando registros de índice 13400 até 13599...\n",
      "Processando registros de índice 13600 até 13799...\n",
      "Processando registros de índice 13800 até 13999...\n",
      "Processando registros de índice 14000 até 14199...\n",
      "Processando registros de índice 14200 até 14399...\n",
      "Processando registros de índice 14400 até 14599...\n",
      "Processando registros de índice 14600 até 14799...\n",
      "Processando registros de índice 14800 até 14999...\n",
      "Processando registros de índice 15000 até 15199...\n",
      "Processando registros de índice 15200 até 15399...\n",
      "Processando registros de índice 15400 até 15599...\n",
      "Processando registros de índice 15600 até 15799...\n",
      "Processando registros de índice 15800 até 15999...\n",
      "Processando registros de índice 16000 até 16199...\n",
      "Processando registros de índice 16200 até 16399...\n",
      "Processando registros de índice 16400 até 16599...\n",
      "Processando registros de índice 16600 até 16799...\n",
      "Processando registros de índice 16800 até 16999...\n",
      "Processando registros de índice 17000 até 17199...\n",
      "Processando registros de índice 17200 até 17399...\n",
      "Processando registros de índice 17400 até 17599...\n",
      "Processando registros de índice 17600 até 17799...\n",
      "Processando registros de índice 17800 até 17999...\n",
      "Processando registros de índice 18000 até 18199...\n",
      "Processando registros de índice 18200 até 18399...\n",
      "Processando registros de índice 18400 até 18599...\n",
      "Processando registros de índice 18600 até 18799...\n",
      "Processando registros de índice 18800 até 18999...\n",
      "Processando registros de índice 19000 até 19199...\n",
      "Processando registros de índice 19200 até 19257...\n",
      "\n",
      "Tempo total de processamento: 1169.27 segundos.\n"
     ]
    }
   ],
   "source": [
    "from sentence_transformers import SentenceTransformer\n",
    "import numpy as np\n",
    "import pandas as pd\n",
    "import time\n",
    "\n",
    "# Carregar o modelo SBERT\n",
    "sbert_model = SentenceTransformer('all-MiniLM-L6-v2')  # Modelo rápido e eficiente\n",
    "\n",
    "# Função para criar embeddings\n",
    "def create_embeddings(texts):\n",
    "    \"\"\"\n",
    "    Gera embeddings para uma lista de textos usando o Sentence-BERT (SBERT).\n",
    "    \n",
    "    Args:\n",
    "        texts (list): Lista de textos para os quais os embeddings serão gerados.\n",
    "    \n",
    "    Returns:\n",
    "        np.ndarray: Matriz de embeddings, onde cada linha é o embedding de um texto.\n",
    "    \"\"\"\n",
    "    return sbert_model.encode(texts, convert_to_numpy=True)\n",
    "\n",
    "# Garantir que a coluna não tenha valores nulos\n",
    "df_portarias_mgi['TextoTratadoSemNomesLemmatized'] = df_portarias_mgi['TextoTratadoSemNomesLemmatized'].fillna(\"\")\n",
    "\n",
    "# Função para processar em blocos\n",
    "def process_embeddings_in_blocks(df, block_size=200):\n",
    "    \"\"\"\n",
    "    Processa o DataFrame em blocos para gerar embeddings da coluna TextoTratadoLemmatized.\n",
    "    \n",
    "    Args:\n",
    "        df (pd.DataFrame): DataFrame contendo a coluna 'TextoTratadoLemmatized'.\n",
    "        block_size (int): Tamanho de cada bloco a ser processado.\n",
    "    \n",
    "    Returns:\n",
    "        pd.DataFrame: DataFrame com a coluna SBERT_Embeddings adicionada.\n",
    "    \"\"\"\n",
    "    embeddings_list = []\n",
    "    total_start_time = time.time()  # Início do tempo total\n",
    "\n",
    "    for i in range(0, len(df), block_size):\n",
    "        start_idx = i\n",
    "        end_idx = min(i + block_size, len(df))\n",
    "        print(f\"Processando registros de índice {start_idx} até {end_idx - 1}...\")  # Mensagem de progresso\n",
    "        \n",
    "        # Selecionar o bloco atual\n",
    "        block_texts = df.iloc[start_idx:end_idx]['TextoTratadoLemmatized'].tolist()\n",
    "        \n",
    "        # Gerar embeddings para o bloco\n",
    "        block_embeddings = create_embeddings(block_texts)\n",
    "        \n",
    "        # Adicionar ao resultado final\n",
    "        embeddings_list.extend(block_embeddings)\n",
    "    \n",
    "    # Fim do tempo total\n",
    "    total_time = time.time() - total_start_time\n",
    "    print(f\"\\nTempo total de processamento: {total_time:.2f} segundos.\")\n",
    "    \n",
    "    # Retornar o DataFrame com a nova coluna de embeddings\n",
    "    df['SBERT_Embeddings'] = embeddings_list\n",
    "    return df\n",
    "\n",
    "# Processar o DataFrame em blocos\n",
    "print(\"Início do processamento de embeddings em blocos...\")\n",
    "df_portarias_mgi = process_embeddings_in_blocks(df_portarias_mgi, block_size=200)\n"
   ]
  },
  {
   "cell_type": "code",
   "execution_count": 6,
   "id": "c44ab65f-2a41-45bb-89c5-ed61edeb1f52",
   "metadata": {},
   "outputs": [],
   "source": [
    "# Salva saída parcial o arquivo completo com novas colunas\n",
    "df_portarias_mgi.to_parquet(f'./saida/04_2_DOU{secao}_portarias_mgi_tratado_NER_lematizado_embeddingsSBERT.parquet', engine='pyarrow', index=False)"
   ]
  },
  {
   "cell_type": "code",
   "execution_count": null,
   "id": "530acde0-ebab-49b1-9eec-9d44ab891035",
   "metadata": {},
   "outputs": [],
   "source": []
  }
 ],
 "metadata": {
  "kernelspec": {
   "display_name": "Python 3 (ipykernel)",
   "language": "python",
   "name": "python3"
  },
  "language_info": {
   "codemirror_mode": {
    "name": "ipython",
    "version": 3
   },
   "file_extension": ".py",
   "mimetype": "text/x-python",
   "name": "python",
   "nbconvert_exporter": "python",
   "pygments_lexer": "ipython3",
   "version": "3.11.10"
  }
 },
 "nbformat": 4,
 "nbformat_minor": 5
}
