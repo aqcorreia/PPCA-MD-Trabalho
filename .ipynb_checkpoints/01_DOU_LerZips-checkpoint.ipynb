{
 "cells": [
  {
   "cell_type": "markdown",
   "id": "22f8fa6c-adcb-4001-ae4e-d4adcf9c546d",
   "metadata": {},
   "source": [
    "## Script responsável por descompactar o ZIP\n",
    "\n",
    "- Antes de executar esse script, fazer download da base do DOU no link: https://www.in.gov.br/acesso-a-informacao/dados-abertos/base-de-dados\n",
    "- Há um arquivo zip para cada ano/mês/seção\n",
    "- Salvar no subdiretório \\downloads\\Secao0<Número da secao>\\ano<com 4 dígitos>. Exemplo: \\downloads\\Secao02\\2024\n",
    "- No processamento o script:\n",
    "  - Descompacta todos os arquivos zips existentes no subdiretório downloads\\Secao0<Número da secao>\n",
    "  - Faz a leitura do XML\n",
    "  - Cria a coluna Texto a partir da TextHTML, removento das tags html do corpo da portaria\n",
    "  - Salva a saída no arquivo output9<seção>\n"
   ]
  },
  {
   "cell_type": "code",
   "execution_count": 1,
   "id": "57f68b6f-3165-4288-aa39-c6567e7d20b1",
   "metadata": {},
   "outputs": [
    {
     "ename": "ImportError",
     "evalue": "DLL load failed while importing _multiarray_umath: Não foi possível encontrar o módulo especificado.",
     "output_type": "error",
     "traceback": [
      "\u001b[1;31m---------------------------------------------------------------------------\u001b[0m",
      "\u001b[1;31mImportError\u001b[0m                               Traceback (most recent call last)",
      "\u001b[1;31mImportError\u001b[0m: DLL load failed while importing _multiarray_umath: Não foi possível encontrar o módulo especificado."
     ]
    },
    {
     "ename": "ImportError",
     "evalue": "DLL load failed while importing _multiarray_umath: Não foi possível encontrar o módulo especificado.",
     "output_type": "error",
     "traceback": [
      "\u001b[1;31m---------------------------------------------------------------------------\u001b[0m",
      "\u001b[1;31mImportError\u001b[0m                               Traceback (most recent call last)",
      "\u001b[1;31mImportError\u001b[0m: DLL load failed while importing _multiarray_umath: Não foi possível encontrar o módulo especificado."
     ]
    },
    {
     "ename": "ImportError",
     "evalue": "DLL load failed while importing _multiarray_umath: Não foi possível encontrar o módulo especificado.",
     "output_type": "error",
     "traceback": [
      "\u001b[1;31m---------------------------------------------------------------------------\u001b[0m",
      "\u001b[1;31mImportError\u001b[0m                               Traceback (most recent call last)",
      "\u001b[1;31mImportError\u001b[0m: DLL load failed while importing _multiarray_umath: Não foi possível encontrar o módulo especificado."
     ]
    },
    {
     "ename": "ImportError",
     "evalue": "DLL load failed while importing _multiarray_umath: Não foi possível encontrar o módulo especificado.",
     "output_type": "error",
     "traceback": [
      "\u001b[1;31m---------------------------------------------------------------------------\u001b[0m",
      "\u001b[1;31mImportError\u001b[0m                               Traceback (most recent call last)",
      "\u001b[1;31mImportError\u001b[0m: DLL load failed while importing _multiarray_umath: Não foi possível encontrar o módulo especificado."
     ]
    }
   ],
   "source": [
    "import os\n",
    "import zipfile\n",
    "import xml.etree.ElementTree as ET\n",
    "import pandas as pd\n",
    "import io\n",
    "from bs4 import BeautifulSoup"
   ]
  },
  {
   "cell_type": "code",
   "execution_count": 2,
   "id": "7ec07517-653e-47b2-a76e-6fb4db2b1a99",
   "metadata": {},
   "outputs": [],
   "source": [
    "douItem = 2\n",
    "secao = f'Secao0{douItem}'"
   ]
  },
  {
   "cell_type": "code",
   "execution_count": 3,
   "id": "3a6fa8ac-c3c6-41b2-9ae8-cfb61f31e9a1",
   "metadata": {},
   "outputs": [],
   "source": [
    "def process_zip(zip_path):\n",
    "\n",
    "    print(zip_path)\n",
    "    # Lista para armazenar os dados dos artigos\n",
    "    articles_data = []\n",
    "\n",
    "    # Abre o arquivo ZIP\n",
    "    with zipfile.ZipFile(zip_path, 'r') as zip_ref:\n",
    "        # Itera sobre cada arquivo no ZIP\n",
    "        for file_name in zip_ref.namelist():\n",
    "            if file_name.endswith('.xml'):\n",
    "                try:\n",
    "                    # Abre o arquivo XML\n",
    "                    with zip_ref.open(file_name) as file:\n",
    "                        # Lê o conteúdo do arquivo\n",
    "                        content = file.read()\n",
    "                        # Verifica se o conteúdo não está vazio\n",
    "                        if content.strip():\n",
    "                            # Parse do conteúdo XML\n",
    "                            tree = ET.ElementTree(ET.fromstring(content))\n",
    "                            root = tree.getroot()\n",
    "\n",
    "                            # Itera sobre todos os elementos <article>\n",
    "                            for article in root.findall('article'):\n",
    "                                if article is not None:\n",
    "                                    # Extrai os atributos do <article>\n",
    "                                    article_data = article.attrib\n",
    "\n",
    "                                    # Extrai os conteúdos dos elementos dentro de <body>\n",
    "                                    body = article.find('body')\n",
    "                                    if body is not None:\n",
    "                                        for child in body:\n",
    "                                            # Usa o nome do elemento como chave e seu texto como valor\n",
    "                                            article_data[child.tag] = child.text.strip() if child.text else None\n",
    "\n",
    "                                    # Adiciona o nome do arquivo aos dados do artigo\n",
    "                                    article_data['file_name'] = file_name\n",
    "                                    # Adiciona o nome do arquivo ZIP aos dados do artigo\n",
    "                                    article_data['zip_name'] = os.path.basename(zip_path)\n",
    "                                    articles_data.append(article_data)\n",
    "                except ET.ParseError:\n",
    "                    print(f\"Erro ao analisar XML no arquivo {file_name} no ZIP {zip_path}\")\n",
    "                except Exception as e:\n",
    "                    print(f\"Erro ao processar o arquivo {file_name} no ZIP {zip_path}: {e}\")\n",
    "\n",
    "    return articles_data"
   ]
  },
  {
   "cell_type": "code",
   "execution_count": 4,
   "id": "8b5babbe-45fe-41c0-a60f-8c2d87279846",
   "metadata": {},
   "outputs": [],
   "source": [
    "def process_all_zips_in_directory(directory):\n",
    "\n",
    "    print(directory)\n",
    "    # Lista para armazenar os dados de todos os artigos\n",
    "    all_articles_data = []\n",
    "\n",
    "    # Itera sobre todos os arquivos no diretório e subdiretórios\n",
    "    for root, dirs, files in os.walk(directory):\n",
    "        print(f'Processando diretório {root}...')\n",
    "        for file_name in files:\n",
    "            if file_name.endswith('.zip'):\n",
    "                zip_path = os.path.join(root, file_name)\n",
    "                articles_data = process_zip(zip_path)\n",
    "                all_articles_data.extend(articles_data)\n",
    "\n",
    "    # Cria um DataFrame a partir dos dados de todos os artigos\n",
    "    df = pd.DataFrame(all_articles_data)\n",
    "    return df"
   ]
  },
  {
   "cell_type": "code",
   "execution_count": 5,
   "id": "c96537d6-226e-49dc-9d88-093fd606b467",
   "metadata": {},
   "outputs": [],
   "source": [
    "# Função para extrair o texto de um texto HTML\n",
    "def extract_text_from_html(html):\n",
    "    soup = BeautifulSoup(html, 'html.parser')\n",
    "    return soup.get_text(separator=' ')"
   ]
  },
  {
   "cell_type": "code",
   "execution_count": null,
   "id": "5fe9d464-1427-4fba-90a2-36ce675e556c",
   "metadata": {},
   "outputs": [
    {
     "name": "stdin",
     "output_type": "stream",
     "text": [
      "Informe a seção: 1, 2 ou 3 2\n"
     ]
    },
    {
     "name": "stdout",
     "output_type": "stream",
     "text": [
      "./downloads/Secao02\n",
      "Processando diretório ./downloads/Secao02...\n",
      "Processando diretório ./downloads/Secao02\\2023...\n",
      "./downloads/Secao02\\2023\\S02012023.zip\n",
      "./downloads/Secao02\\2023\\S02022023.zip\n",
      "./downloads/Secao02\\2023\\S02032023.zip\n",
      "./downloads/Secao02\\2023\\S02042023.zip\n",
      "./downloads/Secao02\\2023\\S02052023.zip\n",
      "./downloads/Secao02\\2023\\S02062023.zip\n",
      "./downloads/Secao02\\2023\\S02072023.zip\n",
      "./downloads/Secao02\\2023\\S02082023.zip\n",
      "./downloads/Secao02\\2023\\S02092023.zip\n",
      "./downloads/Secao02\\2023\\S02102023.zip\n",
      "./downloads/Secao02\\2023\\S02112023.zip\n",
      "./downloads/Secao02\\2023\\S02122023.zip\n",
      "Processando diretório ./downloads/Secao02\\2024...\n",
      "./downloads/Secao02\\2024\\S02012024.zip\n",
      "./downloads/Secao02\\2024\\S02022024.zip\n",
      "./downloads/Secao02\\2024\\S02032024.zip\n",
      "./downloads/Secao02\\2024\\S02042024.zip\n",
      "./downloads/Secao02\\2024\\S02052024.zip\n",
      "./downloads/Secao02\\2024\\S02062024.zip\n",
      "./downloads/Secao02\\2024\\S02072024.zip\n",
      "./downloads/Secao02\\2024\\S02082024.zip\n",
      "./downloads/Secao02\\2024\\S02092024.zip\n",
      "./downloads/Secao02\\2024\\S02102024.zip\n"
     ]
    }
   ],
   "source": [
    "douItem = input(\"Informe a seção: 1, 2 ou 3\")\n",
    "secao = f'Secao0{douItem}'\n",
    "\n",
    "# Caminho para o diretório contendo os arquivos ZIP\n",
    "directory_path = os.path.join('./downloads/', secao)\n",
    "\n",
    "# Processa todos os ZIPs no diretório e obtém o DataFrame\n",
    "df = process_all_zips_in_directory(directory_path)\n",
    "\n",
    "# Renomeia a coluna Texto\n",
    "df.rename(columns={'Texto': 'TextoHTML'}, inplace=True)\n",
    "\n",
    "# Cria uma nova coluna 'text_content' com o texto extraído do HTML\n",
    "df['Texto'] = df['TextoHTML'].apply(extract_text_from_html)\n",
    "\n",
    "# Exibe o DataFrame\n",
    "df.shape"
   ]
  },
  {
   "cell_type": "code",
   "execution_count": null,
   "id": "22523197-18ac-4b1b-97af-229368fee452",
   "metadata": {},
   "outputs": [],
   "source": [
    "df.shape"
   ]
  },
  {
   "cell_type": "code",
   "execution_count": null,
   "id": "c0085d93-9b8f-46c5-97a0-db2c266b72e3",
   "metadata": {},
   "outputs": [],
   "source": [
    "df.to_parquet(f'./saida/DOU{secao}.parquet', engine='pyarrow', index=False)"
   ]
  },
  {
   "cell_type": "code",
   "execution_count": null,
   "id": "612a990b-e7a0-40b0-a6e7-93ee8da60114",
   "metadata": {},
   "outputs": [],
   "source": [
    "df.head()"
   ]
  },
  {
   "cell_type": "code",
   "execution_count": null,
   "id": "4a865341-591c-4ff6-b119-e4db93a00fbb",
   "metadata": {},
   "outputs": [],
   "source": [
    "totais = df.groupby('artType').size()\n",
    "print(totais)"
   ]
  },
  {
   "cell_type": "code",
   "execution_count": null,
   "id": "e06b688c-fba0-42b0-8005-bd8a9a1a1504",
   "metadata": {},
   "outputs": [],
   "source": []
  }
 ],
 "metadata": {
  "kernelspec": {
   "display_name": "Python 3 (ipykernel)",
   "language": "python",
   "name": "python3"
  },
  "language_info": {
   "codemirror_mode": {
    "name": "ipython",
    "version": 3
   },
   "file_extension": ".py",
   "mimetype": "text/x-python",
   "name": "python",
   "nbconvert_exporter": "python",
   "pygments_lexer": "ipython3",
   "version": "3.11.10"
  }
 },
 "nbformat": 4,
 "nbformat_minor": 5
}
