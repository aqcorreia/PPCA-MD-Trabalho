{
 "cells": [
  {
   "cell_type": "markdown",
   "id": "bdec40b0-8912-463b-9882-f8d3b6173dab",
   "metadata": {},
   "source": [
    "## Script responsável por realizar o tratamento dos dados e a análise descritiva\n",
    "\n",
    "- Este código pressupõe que os arquivos do DOU estejam descompactados e se encontrem no arquivo **./saida/01_DOUSecao02_completo.parquet**\n",
    "- Caso não exista, ele pode ser gerado por meio do notebook **01_DOU_LerZips.ipynb**\n",
    "- Processamento deste script:\n",
    "  - Faz a leitura do arquivo **./saida/01_DOUSecao02_completo.parquet**\n",
    "  - Filtra apenas portarias\n",
    "  - Filtra apenas portarias do MGI\n",
    "  - Cria a coluna Texto a partir da TextHTML, removento das tags html do corpo da portaria\n",
    "  - Cria a coluna Total_palavras, que exibe o total de palavras da coluna Texto\n",
    "  - Cria a coluna Ano com o ano da publicação (pubDate)\n",
    "  - Cria a coluna Mês com o mês da publicação (pubDate)\n",
    "  - Salva a saída parcial no arquivo **.\\saida\\02_DouSecao0<No Seção>_portarias_mgi_tratado.parquet** \n",
    " \n",
    "---\n"
   ]
  },
  {
   "cell_type": "markdown",
   "id": "a818c432-aade-4275-914b-584e3819b0ae",
   "metadata": {},
   "source": [
    "## Biblioteca"
   ]
  },
  {
   "cell_type": "code",
   "execution_count": 1,
   "id": "d32c406e-4b7e-423d-b6f1-c7d46596e2bb",
   "metadata": {},
   "outputs": [],
   "source": [
    "import pandas as pd\n",
    "from bs4 import BeautifulSoup\n",
    "import string\n",
    "import time\n",
    "import matplotlib.pyplot as plt"
   ]
  },
  {
   "cell_type": "markdown",
   "id": "5b59f5a8-190f-4523-b5c6-53d16b059012",
   "metadata": {},
   "source": [
    "## 01 - Tratamento dos dados"
   ]
  },
  {
   "cell_type": "code",
   "execution_count": 2,
   "id": "4c920508-d5be-4314-9c19-55f9028f02b1",
   "metadata": {},
   "outputs": [],
   "source": [
    "# Função para contar palavras desconsiderando a pontuação\n",
    "def contar_palavras(texto):\n",
    "    # Remover pontuação\n",
    "    texto_sem_pontuacao = texto.translate(str.maketrans('', '', string.punctuation))\n",
    "    # Dividir o texto em palavras\n",
    "    palavras = texto_sem_pontuacao.split()\n",
    "    # Retornar a contagem de palavras\n",
    "    return len(palavras)"
   ]
  },
  {
   "cell_type": "code",
   "execution_count": 3,
   "id": "6835c38b-35cf-48df-86e8-e4a2b2472caa",
   "metadata": {},
   "outputs": [],
   "source": [
    "# Função para extrair o texto de um texto HTML\n",
    "def extract_text_from_html(html):\n",
    "    soup = BeautifulSoup(html, 'html.parser')\n",
    "    return soup.get_text(separator=' ')"
   ]
  },
  {
   "cell_type": "code",
   "execution_count": 4,
   "id": "d0d37614-af94-4084-96fa-becaccdb3cb7",
   "metadata": {},
   "outputs": [
    {
     "data": {
      "text/plain": [
       "(482128, 27)"
      ]
     },
     "execution_count": 4,
     "metadata": {},
     "output_type": "execute_result"
    }
   ],
   "source": [
    "douItem = 2\n",
    "secao = f'Secao0{douItem}'\n",
    "\n",
    "# Lê o arquivo Parquet\n",
    "df = pd.read_parquet(f'./saida/01_DOU{secao}_completo.parquet', engine='pyarrow')  # ou engine='fastparquet'\n",
    "\n",
    "# Exibe as primeiras linhas do DataFrame\n",
    "df.shape\n"
   ]
  },
  {
   "cell_type": "code",
   "execution_count": 5,
   "id": "c75df822-5538-4862-afe8-aa7fe264d16b",
   "metadata": {},
   "outputs": [],
   "source": [
    "# Converte a coluna pubDate para datetime\n",
    "df['pubDate'] = pd.to_datetime(df['pubDate'], format='%d/%m/%Y', errors='coerce')\n",
    "\n",
    "# Extrair ano e mês\n",
    "df.loc[:, 'Ano'] = df['pubDate'].dt.year\n",
    "df.loc[:, 'Mes'] = df['pubDate'].dt.month"
   ]
  },
  {
   "cell_type": "code",
   "execution_count": 6,
   "id": "0f938a3d-9d0e-4ca2-9c0f-5abb41746dee",
   "metadata": {},
   "outputs": [
    {
     "data": {
      "text/plain": [
       "(412951, 29)"
      ]
     },
     "execution_count": 6,
     "metadata": {},
     "output_type": "execute_result"
    }
   ],
   "source": [
    "df_portaria = df[df['artType'] == 'Portaria']\n",
    "\n",
    "df_portaria.shape"
   ]
  },
  {
   "cell_type": "code",
   "execution_count": 7,
   "id": "3a30e794-4310-4b20-ae18-4584403582b7",
   "metadata": {},
   "outputs": [
    {
     "data": {
      "text/plain": [
       "(19258, 29)"
      ]
     },
     "execution_count": 7,
     "metadata": {},
     "output_type": "execute_result"
    }
   ],
   "source": [
    "# Filtrar os valores que contenham \"ministério da inovação\" na coluna 'artCategory', ignorando case\n",
    "filtro = df_portaria['artCategory'].str.contains(\"Ministério da Gestão e da Inovação em Serviços Público\", case=False, na=False)\n",
    "df_portarias_mgi = df_portaria[filtro]\n",
    "\n",
    "# Exibir o DataFrame filtrado\n",
    "df_portarias_mgi.shape"
   ]
  },
  {
   "cell_type": "code",
   "execution_count": 8,
   "id": "569960e0-a459-4ffb-87fc-50dd6bcd1055",
   "metadata": {},
   "outputs": [
    {
     "name": "stdout",
     "output_type": "stream",
     "text": [
      "(19258, 31)\n",
      "Tempo de execução: 14.80 segundos\n"
     ]
    }
   ],
   "source": [
    "# Início do cronômetro\n",
    "start_time = time.time()\n",
    "\n",
    "# Garantir que estamos trabalhando com uma cópia explícita\n",
    "df_portarias_mgi = df_portarias_mgi.copy()\n",
    "\n",
    "# Cria uma coluna 'Texto' com o texto sem as tagas de HTML\n",
    "df_portarias_mgi.loc[:, 'Texto'] = df_portarias_mgi['TextoHTML'].apply(extract_text_from_html)\n",
    "\n",
    "# Cria uma coluna 'Total_palavras' com o total de palavras da coluna Texto\n",
    "df_portarias_mgi.loc[:, 'Total_palavras'] = df_portarias_mgi['Texto'].apply(contar_palavras)\n",
    "\n",
    "# Exibe o shape do DataFrame final\n",
    "print(df_portarias_mgi.shape)\n",
    "\n",
    "# Fim do cronômetro\n",
    "end_time = time.time()\n",
    "\n",
    "# Exibir o tempo de execução\n",
    "execution_time = end_time - start_time\n",
    "print(f\"Tempo de execução: {execution_time:.2f} segundos\")"
   ]
  },
  {
   "cell_type": "code",
   "execution_count": 9,
   "id": "96e55f9a-065f-4d0a-b8ec-2874b3237754",
   "metadata": {},
   "outputs": [],
   "source": [
    "# Salva saída parcial o arquivo completo com novas colunas\n",
    "df_portarias_mgi.to_parquet(f'./saida/02_DOU{secao}_portarias_mgi_tratado.parquet', engine='pyarrow', index=False)"
   ]
  },
  {
   "cell_type": "code",
   "execution_count": 10,
   "id": "8b5e1316-e37c-4b8b-ab96-c1fd4526bbf9",
   "metadata": {},
   "outputs": [
    {
     "data": {
      "text/html": [
       "<div>\n",
       "<style scoped>\n",
       "    .dataframe tbody tr th:only-of-type {\n",
       "        vertical-align: middle;\n",
       "    }\n",
       "\n",
       "    .dataframe tbody tr th {\n",
       "        vertical-align: top;\n",
       "    }\n",
       "\n",
       "    .dataframe thead th {\n",
       "        text-align: right;\n",
       "    }\n",
       "</style>\n",
       "<table border=\"1\" class=\"dataframe\">\n",
       "  <thead>\n",
       "    <tr style=\"text-align: right;\">\n",
       "      <th></th>\n",
       "      <th>id</th>\n",
       "      <th>name</th>\n",
       "      <th>idOficio</th>\n",
       "      <th>pubName</th>\n",
       "      <th>artType</th>\n",
       "      <th>pubDate</th>\n",
       "      <th>artClass</th>\n",
       "      <th>artCategory</th>\n",
       "      <th>artSize</th>\n",
       "      <th>artNotes</th>\n",
       "      <th>...</th>\n",
       "      <th>Ementa</th>\n",
       "      <th>Titulo</th>\n",
       "      <th>SubTitulo</th>\n",
       "      <th>TextoHTML</th>\n",
       "      <th>file_name</th>\n",
       "      <th>zip_name</th>\n",
       "      <th>Ano</th>\n",
       "      <th>Mes</th>\n",
       "      <th>Texto</th>\n",
       "      <th>Total_palavras</th>\n",
       "    </tr>\n",
       "  </thead>\n",
       "  <tbody>\n",
       "    <tr>\n",
       "      <th>168487</th>\n",
       "      <td>30266027</td>\n",
       "      <td>PORTARIA DE PESSOAL 529</td>\n",
       "      <td>9368436</td>\n",
       "      <td>DO2</td>\n",
       "      <td>Portaria</td>\n",
       "      <td>2023-01-25</td>\n",
       "      <td>00028:00006:00000:00000:00000:00000:00000:0000...</td>\n",
       "      <td>Ministério da Gestão e da Inovação em Serviços...</td>\n",
       "      <td>12</td>\n",
       "      <td></td>\n",
       "      <td>...</td>\n",
       "      <td>None</td>\n",
       "      <td>None</td>\n",
       "      <td>None</td>\n",
       "      <td>&lt;p class=\"identifica\"&gt;PORTARIA DE PESSOAL SGP/...</td>\n",
       "      <td>S02012023/529_20230125_20280233.xml.xml</td>\n",
       "      <td>S02012023.zip</td>\n",
       "      <td>2023</td>\n",
       "      <td>1</td>\n",
       "      <td>PORTARIA DE PESSOAL SGP/SEDGG/ME Nº 529, DE 17...</td>\n",
       "      <td>358</td>\n",
       "    </tr>\n",
       "    <tr>\n",
       "      <th>168506</th>\n",
       "      <td>30264410</td>\n",
       "      <td>ATO PORTARIA 655</td>\n",
       "      <td>9368530</td>\n",
       "      <td>DO2</td>\n",
       "      <td>Portaria</td>\n",
       "      <td>2023-01-25</td>\n",
       "      <td>00028:00006:00000:00000:00000:00000:00000:0000...</td>\n",
       "      <td>Ministério da Gestão e da Inovação em Serviços...</td>\n",
       "      <td>12</td>\n",
       "      <td></td>\n",
       "      <td>...</td>\n",
       "      <td>None</td>\n",
       "      <td>None</td>\n",
       "      <td>None</td>\n",
       "      <td>&lt;p class=\"identifica\"&gt;PORTARIA SGP/SEDGG/ME Nº...</td>\n",
       "      <td>S02012023/529_20230125_20280363.xml.xml</td>\n",
       "      <td>S02012023.zip</td>\n",
       "      <td>2023</td>\n",
       "      <td>1</td>\n",
       "      <td>PORTARIA SGP/SEDGG/ME Nº 655, DE 23 DE JANEIRO...</td>\n",
       "      <td>245</td>\n",
       "    </tr>\n",
       "    <tr>\n",
       "      <th>168509</th>\n",
       "      <td>30265009</td>\n",
       "      <td>ATO PORTARIA DE PESSOAL 461</td>\n",
       "      <td>9368536</td>\n",
       "      <td>DO2</td>\n",
       "      <td>Portaria</td>\n",
       "      <td>2023-01-25</td>\n",
       "      <td>00028:00006:00000:00000:00000:00000:00000:0000...</td>\n",
       "      <td>Ministério da Gestão e da Inovação em Serviços...</td>\n",
       "      <td>12</td>\n",
       "      <td></td>\n",
       "      <td>...</td>\n",
       "      <td>None</td>\n",
       "      <td>None</td>\n",
       "      <td>None</td>\n",
       "      <td>&lt;p class=\"identifica\"&gt;PORTARIA DE PESSOAL SGP/...</td>\n",
       "      <td>S02012023/529_20230125_20280370.xml.xml</td>\n",
       "      <td>S02012023.zip</td>\n",
       "      <td>2023</td>\n",
       "      <td>1</td>\n",
       "      <td>PORTARIA DE PESSOAL SGP/SEDGG/ME Nº 461, DE 16...</td>\n",
       "      <td>251</td>\n",
       "    </tr>\n",
       "    <tr>\n",
       "      <th>168510</th>\n",
       "      <td>30265678</td>\n",
       "      <td>ATO PORTARIA DE PESSOAL SGP 606</td>\n",
       "      <td>9368541</td>\n",
       "      <td>DO2</td>\n",
       "      <td>Portaria</td>\n",
       "      <td>2023-01-25</td>\n",
       "      <td>00028:00006:00000:00000:00000:00000:00000:0000...</td>\n",
       "      <td>Ministério da Gestão e da Inovação em Serviços...</td>\n",
       "      <td>12</td>\n",
       "      <td></td>\n",
       "      <td>...</td>\n",
       "      <td>None</td>\n",
       "      <td>None</td>\n",
       "      <td>None</td>\n",
       "      <td>&lt;p class=\"identifica\"&gt;PORTARIA DE PESSOAL SGP/...</td>\n",
       "      <td>S02012023/529_20230125_20280375.xml.xml</td>\n",
       "      <td>S02012023.zip</td>\n",
       "      <td>2023</td>\n",
       "      <td>1</td>\n",
       "      <td>PORTARIA DE PESSOAL SGP/SEDGG/ME Nº 606, DE 19...</td>\n",
       "      <td>251</td>\n",
       "    </tr>\n",
       "    <tr>\n",
       "      <th>168512</th>\n",
       "      <td>30266030</td>\n",
       "      <td>ATO PORTARIA DE PESSOAL SGP 517</td>\n",
       "      <td>9368573</td>\n",
       "      <td>DO2</td>\n",
       "      <td>Portaria</td>\n",
       "      <td>2023-01-25</td>\n",
       "      <td>00028:00006:00000:00000:00000:00000:00000:0000...</td>\n",
       "      <td>Ministério da Gestão e da Inovação em Serviços...</td>\n",
       "      <td>12</td>\n",
       "      <td></td>\n",
       "      <td>...</td>\n",
       "      <td>None</td>\n",
       "      <td>None</td>\n",
       "      <td>None</td>\n",
       "      <td>&lt;p class=\"identifica\"&gt;PORTARIA DE PESSOAL SGP/...</td>\n",
       "      <td>S02012023/529_20230125_20280390.xml.xml</td>\n",
       "      <td>S02012023.zip</td>\n",
       "      <td>2023</td>\n",
       "      <td>1</td>\n",
       "      <td>PORTARIA DE PESSOAL SGP/SEDGG/ME Nº 517, DE 17...</td>\n",
       "      <td>243</td>\n",
       "    </tr>\n",
       "  </tbody>\n",
       "</table>\n",
       "<p>5 rows × 31 columns</p>\n",
       "</div>"
      ],
      "text/plain": [
       "              id                             name idOficio pubName   artType  \\\n",
       "168487  30266027          PORTARIA DE PESSOAL 529  9368436     DO2  Portaria   \n",
       "168506  30264410                 ATO PORTARIA 655  9368530     DO2  Portaria   \n",
       "168509  30265009      ATO PORTARIA DE PESSOAL 461  9368536     DO2  Portaria   \n",
       "168510  30265678  ATO PORTARIA DE PESSOAL SGP 606  9368541     DO2  Portaria   \n",
       "168512  30266030  ATO PORTARIA DE PESSOAL SGP 517  9368573     DO2  Portaria   \n",
       "\n",
       "          pubDate                                           artClass  \\\n",
       "168487 2023-01-25  00028:00006:00000:00000:00000:00000:00000:0000...   \n",
       "168506 2023-01-25  00028:00006:00000:00000:00000:00000:00000:0000...   \n",
       "168509 2023-01-25  00028:00006:00000:00000:00000:00000:00000:0000...   \n",
       "168510 2023-01-25  00028:00006:00000:00000:00000:00000:00000:0000...   \n",
       "168512 2023-01-25  00028:00006:00000:00000:00000:00000:00000:0000...   \n",
       "\n",
       "                                              artCategory artSize artNotes  \\\n",
       "168487  Ministério da Gestão e da Inovação em Serviços...      12            \n",
       "168506  Ministério da Gestão e da Inovação em Serviços...      12            \n",
       "168509  Ministério da Gestão e da Inovação em Serviços...      12            \n",
       "168510  Ministério da Gestão e da Inovação em Serviços...      12            \n",
       "168512  Ministério da Gestão e da Inovação em Serviços...      12            \n",
       "\n",
       "        ... Ementa Titulo SubTitulo  \\\n",
       "168487  ...   None   None      None   \n",
       "168506  ...   None   None      None   \n",
       "168509  ...   None   None      None   \n",
       "168510  ...   None   None      None   \n",
       "168512  ...   None   None      None   \n",
       "\n",
       "                                                TextoHTML  \\\n",
       "168487  <p class=\"identifica\">PORTARIA DE PESSOAL SGP/...   \n",
       "168506  <p class=\"identifica\">PORTARIA SGP/SEDGG/ME Nº...   \n",
       "168509  <p class=\"identifica\">PORTARIA DE PESSOAL SGP/...   \n",
       "168510  <p class=\"identifica\">PORTARIA DE PESSOAL SGP/...   \n",
       "168512  <p class=\"identifica\">PORTARIA DE PESSOAL SGP/...   \n",
       "\n",
       "                                      file_name       zip_name   Ano Mes  \\\n",
       "168487  S02012023/529_20230125_20280233.xml.xml  S02012023.zip  2023   1   \n",
       "168506  S02012023/529_20230125_20280363.xml.xml  S02012023.zip  2023   1   \n",
       "168509  S02012023/529_20230125_20280370.xml.xml  S02012023.zip  2023   1   \n",
       "168510  S02012023/529_20230125_20280375.xml.xml  S02012023.zip  2023   1   \n",
       "168512  S02012023/529_20230125_20280390.xml.xml  S02012023.zip  2023   1   \n",
       "\n",
       "                                                    Texto Total_palavras  \n",
       "168487  PORTARIA DE PESSOAL SGP/SEDGG/ME Nº 529, DE 17...            358  \n",
       "168506  PORTARIA SGP/SEDGG/ME Nº 655, DE 23 DE JANEIRO...            245  \n",
       "168509  PORTARIA DE PESSOAL SGP/SEDGG/ME Nº 461, DE 16...            251  \n",
       "168510  PORTARIA DE PESSOAL SGP/SEDGG/ME Nº 606, DE 19...            251  \n",
       "168512  PORTARIA DE PESSOAL SGP/SEDGG/ME Nº 517, DE 17...            243  \n",
       "\n",
       "[5 rows x 31 columns]"
      ]
     },
     "execution_count": 10,
     "metadata": {},
     "output_type": "execute_result"
    }
   ],
   "source": [
    "df_portarias_mgi.head()"
   ]
  },
  {
   "cell_type": "markdown",
   "id": "4262b193-a980-4bb4-9485-acf6be514b14",
   "metadata": {},
   "source": [
    "## 02 - Análise descritiva"
   ]
  },
  {
   "cell_type": "code",
   "execution_count": 11,
   "id": "1c566eab-aa81-4d17-8d90-96c54a4bf9b5",
   "metadata": {},
   "outputs": [
    {
     "data": {
      "text/html": [
       "<div>\n",
       "<style scoped>\n",
       "    .dataframe tbody tr th:only-of-type {\n",
       "        vertical-align: middle;\n",
       "    }\n",
       "\n",
       "    .dataframe tbody tr th {\n",
       "        vertical-align: top;\n",
       "    }\n",
       "\n",
       "    .dataframe thead th {\n",
       "        text-align: right;\n",
       "    }\n",
       "</style>\n",
       "<table border=\"1\" class=\"dataframe\">\n",
       "  <thead>\n",
       "    <tr style=\"text-align: right;\">\n",
       "      <th></th>\n",
       "      <th>Ano</th>\n",
       "      <th>TotalGeral</th>\n",
       "      <th>TotalPortaria</th>\n",
       "      <th>TotalPortariaMGI</th>\n",
       "    </tr>\n",
       "  </thead>\n",
       "  <tbody>\n",
       "    <tr>\n",
       "      <th>0</th>\n",
       "      <td>2022</td>\n",
       "      <td>159831</td>\n",
       "      <td>138239</td>\n",
       "      <td>0</td>\n",
       "    </tr>\n",
       "    <tr>\n",
       "      <th>1</th>\n",
       "      <td>2023</td>\n",
       "      <td>188286</td>\n",
       "      <td>160011</td>\n",
       "      <td>11092</td>\n",
       "    </tr>\n",
       "    <tr>\n",
       "      <th>2</th>\n",
       "      <td>2024</td>\n",
       "      <td>134011</td>\n",
       "      <td>114701</td>\n",
       "      <td>8166</td>\n",
       "    </tr>\n",
       "  </tbody>\n",
       "</table>\n",
       "</div>"
      ],
      "text/plain": [
       "    Ano  TotalGeral  TotalPortaria  TotalPortariaMGI\n",
       "0  2022      159831         138239                 0\n",
       "1  2023      188286         160011             11092\n",
       "2  2024      134011         114701              8166"
      ]
     },
     "execution_count": 11,
     "metadata": {},
     "output_type": "execute_result"
    }
   ],
   "source": [
    "import pandas as pd\n",
    "\n",
    "# Contar total geral por Ano\n",
    "total_geral = df.groupby('Ano').size().reset_index(name='TotalGeral')\n",
    "\n",
    "# Contar total de portarias por Ano\n",
    "total_portaria = df_portaria.groupby('Ano').size().reset_index(name='TotalPortaria')\n",
    "\n",
    "# Contar total de portarias do MGI por Ano\n",
    "total_portaria_mgi = df_portarias_mgi.groupby('Ano').size().reset_index(name='TotalPortariaMGI')\n",
    "\n",
    "# Unir os resultados em um único DataFrame\n",
    "resultado = total_geral.merge(total_portaria, on='Ano', how='left').merge(total_portaria_mgi, on='Ano', how='left')\n",
    "\n",
    "# Substituir valores NaN por 0 para anos sem registros em alguma categoria\n",
    "resultado.fillna(0, inplace=True)\n",
    "\n",
    "# Garantir que as colunas estão no formato inteiro\n",
    "resultado['Ano'] = resultado['Ano'].astype(int)\n",
    "resultado[['TotalGeral', 'TotalPortaria', 'TotalPortariaMGI']] = resultado[['TotalGeral', 'TotalPortaria', 'TotalPortariaMGI']].astype(int)\n",
    "\n",
    "# Exibir o resultado final\n",
    "resultado.head()"
   ]
  },
  {
   "cell_type": "code",
   "execution_count": 12,
   "id": "dd3828a0-5fae-4295-aaef-9faa5d14fa08",
   "metadata": {},
   "outputs": [
    {
     "name": "stdout",
     "output_type": "stream",
     "text": [
      "Quantidade de registros de 'Portaria' com 'Ministério da Economia' em 2023: 1103\n",
      "Quantidade de registros de 'Portaria' com 'Ministério da Gestão e da Inovação' em 2023: 11092\n",
      "Quantidade total de registros de 'Portaria' em 2023: 160011\n"
     ]
    }
   ],
   "source": [
    "# Verifica as portarias publicadas considrando Ministério da Economia e MGI\n",
    "\n",
    "# Filtrar registros com artType = \"Portaria\"\n",
    "filtro_portaria = df['artType'].str.lower() == \"portaria\"\n",
    "\n",
    "# Filtrar registros do ano de 2023\n",
    "filtro_ano = df['Ano'] == 2023\n",
    "\n",
    "# Verificar registros com \"Ministério da Economia\" em artCategory, ignorando case\n",
    "filtro_economia = df['artCategory'].str.contains(\"Ministério da Economia\", case=False, na=False)\n",
    "\n",
    "# Verificar registros com \"Ministério da Gestão e da Inovação\" em artCategory, ignorando case\n",
    "filtro_gestao = df['artCategory'].str.contains(\"Ministério da Gestão e da Inovação\", case=False, na=False)\n",
    "\n",
    "# Combinar os filtros para cada categoria no ano de 2023 e com artType = \"Portaria\"\n",
    "filtro_economia_2023 = filtro_portaria & filtro_ano & filtro_economia\n",
    "filtro_gestao_2023 = filtro_portaria & filtro_ano & filtro_gestao\n",
    "\n",
    "# Quantidade de registros com \"Ministério da Economia\" em 2023\n",
    "qtde_economia_2023 = df.loc[filtro_economia_2023].shape[0]\n",
    "\n",
    "# Quantidade de registros com \"Ministério da Gestão e da Inovação\" em 2023\n",
    "qtde_gestao_2023 = df.loc[filtro_gestao_2023].shape[0]\n",
    "\n",
    "# Quantidade total de registros de \"Portaria\" em 2023\n",
    "qtde_total_2023 = df.loc[filtro_portaria & filtro_ano].shape[0]\n",
    "\n",
    "# Exibir os resultados\n",
    "print(f\"Quantidade de registros de 'Portaria' com 'Ministério da Economia' em 2023: {qtde_economia_2023}\")\n",
    "print(f\"Quantidade de registros de 'Portaria' com 'Ministério da Gestão e da Inovação' em 2023: {qtde_gestao_2023}\")\n",
    "print(f\"Quantidade total de registros de 'Portaria' em 2023: {qtde_total_2023}\")\n"
   ]
  },
  {
   "cell_type": "code",
   "execution_count": 13,
   "id": "80b47942-a87b-4b82-9830-c4872cf794aa",
   "metadata": {},
   "outputs": [
    {
     "name": "stdout",
     "output_type": "stream",
     "text": [
      "Menor quantidade de palavras: 34\n",
      "Média de palavras: 212.70578460899367\n",
      "Mediana de palavras: 168.0\n",
      "Maior quantidade de palavras: 11473\n"
     ]
    }
   ],
   "source": [
    "# Análise descritiva na qtde de palavras da coluna Texto\n",
    "\n",
    "# Garantir que a coluna Total_palavras seja numérica\n",
    "df_portarias_mgi['Total_palavras'] = pd.to_numeric(df_portarias_mgi['Total_palavras'], errors='coerce')\n",
    "\n",
    "# Calcular as estatísticas\n",
    "menor_qtde = df_portarias_mgi['Total_palavras'].min()\n",
    "media = df_portarias_mgi['Total_palavras'].mean()\n",
    "mediana = df_portarias_mgi['Total_palavras'].median()\n",
    "maximo = df_portarias_mgi['Total_palavras'].max()\n",
    "\n",
    "# Exibir os resultados\n",
    "print(f\"Menor quantidade de palavras: {menor_qtde}\")\n",
    "print(f\"Média de palavras: {media}\")\n",
    "print(f\"Mediana de palavras: {mediana}\")\n",
    "print(f\"Maior quantidade de palavras: {maximo}\")\n"
   ]
  },
  {
   "cell_type": "code",
   "execution_count": 14,
   "id": "79ea5d4c-4ef9-4ca1-a456-c701da06d2d7",
   "metadata": {},
   "outputs": [
    {
     "name": "stdout",
     "output_type": "stream",
     "text": [
      "    Ano  TotalPortariaMGI\n",
      "0  2023             11092\n",
      "1  2024              8166\n"
     ]
    }
   ],
   "source": [
    "total_portaria_mgi = df_portarias_mgi.groupby('Ano').size().reset_index(name='TotalPortariaMGI')\n",
    "print(total_portaria_mgi)"
   ]
  },
  {
   "cell_type": "code",
   "execution_count": 15,
   "id": "dfa3b052-cab4-488f-b124-38c143484a26",
   "metadata": {},
   "outputs": [
    {
     "data": {
      "text/plain": [
       "(19258, 31)"
      ]
     },
     "execution_count": 15,
     "metadata": {},
     "output_type": "execute_result"
    }
   ],
   "source": [
    "df_portarias_mgi.shape"
   ]
  },
  {
   "cell_type": "code",
   "execution_count": null,
   "id": "1b03342c-3088-491d-9bdc-c130ea784c28",
   "metadata": {},
   "outputs": [],
   "source": []
  }
 ],
 "metadata": {
  "kernelspec": {
   "display_name": "Python 3 (ipykernel)",
   "language": "python",
   "name": "python3"
  },
  "language_info": {
   "codemirror_mode": {
    "name": "ipython",
    "version": 3
   },
   "file_extension": ".py",
   "mimetype": "text/x-python",
   "name": "python",
   "nbconvert_exporter": "python",
   "pygments_lexer": "ipython3",
   "version": "3.11.10"
  }
 },
 "nbformat": 4,
 "nbformat_minor": 5
}
