{
 "cells": [
  {
   "cell_type": "markdown",
   "id": "bdec40b0-8912-463b-9882-f8d3b6173dab",
   "metadata": {},
   "source": [
    "## Script responsável por realizar o tratamento dos dados e a análise descritiva\n",
    "\n",
    "- Este código pressupõe que os arquivos do DOU estejam descompactados e se encontrem no arquivo **./saida/01_DOUSecao02_completo.parquet**\n",
    "- Caso não exista, ele pode ser gerado por meio do notebook **01_DOU_LerZips.ipynb**\n",
    "- Processamento deste script:\n",
    "  - Faz a leitura do arquivo **./saida/01_DOUSecao02_completo.parquet**\n",
    "  - Filtra apenas portarias\n",
    "  - Filtra apenas portarias do MGI\n",
    "  - Cria a coluna Texto a partir da TextHTML, removento das tags html do corpo da portaria\n",
    "  - Cria a coluna Total_palavras, que exibe o total de palavras da coluna Texto\n",
    "  - Cria a coluna Ano com o ano da publicação (pubDate)\n",
    "  - Cria a coluna Mês com o mês da publicação (pubDate)\n",
    "  - Salva a saída parcial no arquivo **.\\saida\\02_DouSecao0<No Seção>_portarias_mgi_tratado.parquet** \n",
    " \n",
    "---\n"
   ]
  },
  {
   "cell_type": "markdown",
   "id": "a818c432-aade-4275-914b-584e3819b0ae",
   "metadata": {},
   "source": [
    "## Biblioteca"
   ]
  },
  {
   "cell_type": "code",
   "execution_count": 1,
   "id": "d32c406e-4b7e-423d-b6f1-c7d46596e2bb",
   "metadata": {},
   "outputs": [],
   "source": [
    "# Bibliotecas para manipulação e análise de dados\n",
    "import pandas as pd\n",
    "\n",
    "# Biblioteca para processamento de texto e HTML/XML\n",
    "from bs4 import BeautifulSoup\n",
    "import string  # Para manipulação de caracteres e strings\n",
    "\n",
    "# Biblioteca para medir o tempo de execução\n",
    "import time\n",
    "\n",
    "# Biblioteca para visualização de dados\n",
    "import matplotlib.pyplot as plt"
   ]
  },
  {
   "cell_type": "markdown",
   "id": "5b59f5a8-190f-4523-b5c6-53d16b059012",
   "metadata": {},
   "source": [
    "## 01 - Tratamento dos dados"
   ]
  },
  {
   "cell_type": "code",
   "execution_count": null,
   "id": "4c920508-d5be-4314-9c19-55f9028f02b1",
   "metadata": {},
   "outputs": [],
   "source": [
    "# Função para contar palavras desconsiderando a pontuação\n",
    "def contar_palavras(texto):\n",
    "    # Remover pontuação\n",
    "    texto_sem_pontuacao = texto.translate(str.maketrans('', '', string.punctuation))\n",
    "    # Dividir o texto em palavras\n",
    "    palavras = texto_sem_pontuacao.split()\n",
    "    # Retornar a contagem de palavras\n",
    "    return len(palavras)"
   ]
  },
  {
   "cell_type": "code",
   "execution_count": null,
   "id": "6835c38b-35cf-48df-86e8-e4a2b2472caa",
   "metadata": {},
   "outputs": [],
   "source": [
    "# Função para extrair o texto de um texto HTML\n",
    "def extract_text_from_html(html):\n",
    "    soup = BeautifulSoup(html, 'html.parser')\n",
    "    return soup.get_text(separator=' ')"
   ]
  },
  {
   "cell_type": "code",
   "execution_count": null,
   "id": "d0d37614-af94-4084-96fa-becaccdb3cb7",
   "metadata": {},
   "outputs": [],
   "source": [
    "douItem = 2\n",
    "secao = f'Secao0{douItem}'\n",
    "\n",
    "# Lê o arquivo Parquet\n",
    "df = pd.read_parquet(f'./saida/01_DOU{secao}_completo.parquet', engine='pyarrow')  # ou engine='fastparquet'\n",
    "\n",
    "# Exibe as primeiras linhas do DataFrame\n",
    "df.shape\n"
   ]
  },
  {
   "cell_type": "code",
   "execution_count": null,
   "id": "c75df822-5538-4862-afe8-aa7fe264d16b",
   "metadata": {},
   "outputs": [],
   "source": [
    "# Converte a coluna pubDate para datetime\n",
    "df['pubDate'] = pd.to_datetime(df['pubDate'], format='%d/%m/%Y', errors='coerce')\n",
    "\n",
    "# Extrair ano e mês\n",
    "df.loc[:, 'Ano'] = df['pubDate'].dt.year\n",
    "df.loc[:, 'Mes'] = df['pubDate'].dt.month"
   ]
  },
  {
   "cell_type": "code",
   "execution_count": null,
   "id": "0f938a3d-9d0e-4ca2-9c0f-5abb41746dee",
   "metadata": {},
   "outputs": [],
   "source": [
    "df_portaria = df[df['artType'] == 'Portaria']\n",
    "\n",
    "df_portaria.shape"
   ]
  },
  {
   "cell_type": "code",
   "execution_count": null,
   "id": "3a30e794-4310-4b20-ae18-4584403582b7",
   "metadata": {},
   "outputs": [],
   "source": [
    "# Filtrar os valores que contenham \"ministério da inovação\" na coluna 'artCategory', ignorando case\n",
    "filtro = df_portaria['artCategory'].str.contains(\"Ministério da Gestão e da Inovação em Serviços Público\", case=False, na=False)\n",
    "df_portarias_mgi = df_portaria[filtro]\n",
    "\n",
    "# Exibir o DataFrame filtrado\n",
    "df_portarias_mgi.shape"
   ]
  },
  {
   "cell_type": "code",
   "execution_count": null,
   "id": "569960e0-a459-4ffb-87fc-50dd6bcd1055",
   "metadata": {},
   "outputs": [],
   "source": [
    "# Início do cronômetro\n",
    "start_time = time.time()\n",
    "\n",
    "# Garantir que estamos trabalhando com uma cópia explícita\n",
    "df_portarias_mgi = df_portarias_mgi.copy()\n",
    "\n",
    "# Cria uma coluna 'Texto' com o texto sem as tagas de HTML\n",
    "df_portarias_mgi.loc[:, 'Texto'] = df_portarias_mgi['TextoHTML'].apply(extract_text_from_html)\n",
    "\n",
    "# Cria uma coluna 'Total_palavras' com o total de palavras da coluna Texto\n",
    "df_portarias_mgi.loc[:, 'Total_palavras'] = df_portarias_mgi['Texto'].apply(contar_palavras)\n",
    "\n",
    "# Exibe o shape do DataFrame final\n",
    "print(df_portarias_mgi.shape)\n",
    "\n",
    "# Fim do cronômetro\n",
    "end_time = time.time()\n",
    "\n",
    "# Exibir o tempo de execução\n",
    "execution_time = end_time - start_time\n",
    "print(f\"Tempo de execução: {execution_time:.2f} segundos\")"
   ]
  },
  {
   "cell_type": "code",
   "execution_count": null,
   "id": "96e55f9a-065f-4d0a-b8ec-2874b3237754",
   "metadata": {},
   "outputs": [],
   "source": [
    "# Salva saída parcial o arquivo completo com novas colunas\n",
    "df_portarias_mgi.to_parquet(f'./saida/02_DOU{secao}_portarias_mgi_tratado.parquet', engine='pyarrow', index=False)"
   ]
  },
  {
   "cell_type": "code",
   "execution_count": null,
   "id": "8b5e1316-e37c-4b8b-ab96-c1fd4526bbf9",
   "metadata": {},
   "outputs": [],
   "source": [
    "df_portarias_mgi.head()"
   ]
  },
  {
   "cell_type": "markdown",
   "id": "4262b193-a980-4bb4-9485-acf6be514b14",
   "metadata": {},
   "source": [
    "## 02 - Análise descritiva"
   ]
  },
  {
   "cell_type": "code",
   "execution_count": 2,
   "id": "5faa64fc-e01f-4e9b-b897-1bc4f6fea392",
   "metadata": {},
   "outputs": [
    {
     "data": {
      "text/plain": [
       "(19258, 31)"
      ]
     },
     "execution_count": 2,
     "metadata": {},
     "output_type": "execute_result"
    }
   ],
   "source": [
    "douItem = 2\n",
    "secao = f'Secao0{douItem}'\n",
    "\n",
    "# Lê o arquivo Parquet\n",
    "df_portarias_mgi = pd.read_parquet(f'./saida/02_DOU{secao}_portarias_mgi_tratado.parquet', engine='pyarrow')  # ou engine='fastparquet'\n",
    "\n",
    "# Exibe as primeiras linhas do DataFrame\n",
    "df_portarias_mgi.shape"
   ]
  },
  {
   "cell_type": "code",
   "execution_count": null,
   "id": "1c566eab-aa81-4d17-8d90-96c54a4bf9b5",
   "metadata": {},
   "outputs": [],
   "source": [
    "import pandas as pd\n",
    "\n",
    "# Contar total geral por Ano\n",
    "total_geral = df.groupby('Ano').size().reset_index(name='TotalGeral')\n",
    "\n",
    "# Contar total de portarias por Ano\n",
    "total_portaria = df_portaria.groupby('Ano').size().reset_index(name='TotalPortaria')\n",
    "\n",
    "# Contar total de portarias do MGI por Ano\n",
    "total_portaria_mgi = df_portarias_mgi.groupby('Ano').size().reset_index(name='TotalPortariaMGI')\n",
    "\n",
    "# Unir os resultados em um único DataFrame\n",
    "resultado = total_geral.merge(total_portaria, on='Ano', how='left').merge(total_portaria_mgi, on='Ano', how='left')\n",
    "\n",
    "# Substituir valores NaN por 0 para anos sem registros em alguma categoria\n",
    "resultado.fillna(0, inplace=True)\n",
    "\n",
    "# Garantir que as colunas estão no formato inteiro\n",
    "resultado['Ano'] = resultado['Ano'].astype(int)\n",
    "resultado[['TotalGeral', 'TotalPortaria', 'TotalPortariaMGI']] = resultado[['TotalGeral', 'TotalPortaria', 'TotalPortariaMGI']].astype(int)\n",
    "\n",
    "# Exibir o resultado final\n",
    "resultado.head()"
   ]
  },
  {
   "cell_type": "code",
   "execution_count": null,
   "id": "dd3828a0-5fae-4295-aaef-9faa5d14fa08",
   "metadata": {},
   "outputs": [],
   "source": [
    "# Verifica as portarias publicadas considrando Ministério da Economia e MGI\n",
    "\n",
    "# Filtrar registros com artType = \"Portaria\"\n",
    "filtro_portaria = df['artType'].str.lower() == \"portaria\"\n",
    "\n",
    "# Filtrar registros do ano de 2023\n",
    "filtro_ano = df['Ano'] == 2023\n",
    "\n",
    "# Verificar registros com \"Ministério da Economia\" em artCategory, ignorando case\n",
    "filtro_economia = df['artCategory'].str.contains(\"Ministério da Economia\", case=False, na=False)\n",
    "\n",
    "# Verificar registros com \"Ministério da Gestão e da Inovação\" em artCategory, ignorando case\n",
    "filtro_gestao = df['artCategory'].str.contains(\"Ministério da Gestão e da Inovação\", case=False, na=False)\n",
    "\n",
    "# Combinar os filtros para cada categoria no ano de 2023 e com artType = \"Portaria\"\n",
    "filtro_economia_2023 = filtro_portaria & filtro_ano & filtro_economia\n",
    "filtro_gestao_2023 = filtro_portaria & filtro_ano & filtro_gestao\n",
    "\n",
    "# Quantidade de registros com \"Ministério da Economia\" em 2023\n",
    "qtde_economia_2023 = df.loc[filtro_economia_2023].shape[0]\n",
    "\n",
    "# Quantidade de registros com \"Ministério da Gestão e da Inovação\" em 2023\n",
    "qtde_gestao_2023 = df.loc[filtro_gestao_2023].shape[0]\n",
    "\n",
    "# Quantidade total de registros de \"Portaria\" em 2023\n",
    "qtde_total_2023 = df.loc[filtro_portaria & filtro_ano].shape[0]\n",
    "\n",
    "# Exibir os resultados\n",
    "print(f\"Quantidade de registros de 'Portaria' com 'Ministério da Economia' em 2023: {qtde_economia_2023}\")\n",
    "print(f\"Quantidade de registros de 'Portaria' com 'Ministério da Gestão e da Inovação' em 2023: {qtde_gestao_2023}\")\n",
    "print(f\"Quantidade total de registros de 'Portaria' em 2023: {qtde_total_2023}\")\n"
   ]
  },
  {
   "cell_type": "code",
   "execution_count": null,
   "id": "80b47942-a87b-4b82-9830-c4872cf794aa",
   "metadata": {},
   "outputs": [],
   "source": [
    "# Análise descritiva na qtde de palavras da coluna Texto\n",
    "\n",
    "# Garantir que a coluna Total_palavras seja numérica\n",
    "df_portarias_mgi['Total_palavras'] = pd.to_numeric(df_portarias_mgi['Total_palavras'], errors='coerce')\n",
    "\n",
    "# Calcular as estatísticas\n",
    "menor_qtde = df_portarias_mgi['Total_palavras'].min()\n",
    "media = df_portarias_mgi['Total_palavras'].mean()\n",
    "mediana = df_portarias_mgi['Total_palavras'].median()\n",
    "maximo = df_portarias_mgi['Total_palavras'].max()\n",
    "\n",
    "# Exibir os resultados\n",
    "print(f\"Menor quantidade de palavras: {menor_qtde}\")\n",
    "print(f\"Média de palavras: {media}\")\n",
    "print(f\"Mediana de palavras: {mediana}\")\n",
    "print(f\"Maior quantidade de palavras: {maximo}\")\n"
   ]
  },
  {
   "cell_type": "code",
   "execution_count": null,
   "id": "2a90d44c-39b8-4f19-a7eb-2fbec86b13d1",
   "metadata": {},
   "outputs": [],
   "source": [
    "# Garantir que a coluna Total_palavras seja numérica\n",
    "df_portarias_mgi['Total_palavras'] = pd.to_numeric(df_portarias_mgi['Total_palavras'], errors='coerce')\n",
    "\n",
    "# Definir intervalos para o eixo X (de 0 a 2100, com bins de 100)\n",
    "bins = list(range(0, 800, 100))\n",
    "\n",
    "# Criar a distribuição agrupada por intervalos\n",
    "word_count_distribution = pd.cut(df_portarias_mgi['Total_palavras'], bins=bins).value_counts(sort=False)\n",
    "\n",
    "# Criar o gráfico de barras com a quantidade de documentos exibida\n",
    "plt.figure(figsize=(12, 6))\n",
    "bars = plt.bar(word_count_distribution.index.astype(str), word_count_distribution.values, \n",
    "               color='skyblue', edgecolor='black')\n",
    "\n",
    "# Adicionar a quantidade de documentos como texto acima de cada barra\n",
    "for bar in bars:\n",
    "    height = bar.get_height()\n",
    "    if height > 0:  # Exibe apenas se houver documentos no bin\n",
    "        plt.text(bar.get_x() + bar.get_width() / 2, height, str(int(height)),\n",
    "                 ha='center', va='bottom', fontsize=10)\n",
    "\n",
    "# Configurações do gráfico\n",
    "plt.title(\"Distribuição do Número de Palavras por Intervalos de 100\", fontsize=16)\n",
    "plt.xlabel(\"Intervalos de Quantidade de Palavras por Documento\", fontsize=14)\n",
    "plt.ylabel(\"Número de Documentos\", fontsize=14)\n",
    "plt.grid(axis='y', linestyle='--', alpha=0.7)\n",
    "plt.xticks(rotation=45, fontsize=12)\n",
    "plt.tight_layout()\n",
    "\n",
    "plt.show()"
   ]
  },
  {
   "cell_type": "code",
   "execution_count": null,
   "id": "79ea5d4c-4ef9-4ca1-a456-c701da06d2d7",
   "metadata": {},
   "outputs": [],
   "source": [
    "total_portaria_mgi = df_portarias_mgi.groupby('Ano').size().reset_index(name='TotalPortariaMGI')\n",
    "print(total_portaria_mgi)"
   ]
  },
  {
   "cell_type": "code",
   "execution_count": null,
   "id": "dfa3b052-cab4-488f-b124-38c143484a26",
   "metadata": {},
   "outputs": [],
   "source": [
    "df_portarias_mgi.shape"
   ]
  },
  {
   "cell_type": "code",
   "execution_count": 3,
   "id": "1b03342c-3088-491d-9bdc-c130ea784c28",
   "metadata": {},
   "outputs": [
    {
     "name": "stdout",
     "output_type": "stream",
     "text": [
      "Total de registros com até 512 palavras: 18795\n"
     ]
    }
   ],
   "source": [
    "# Verificar se a coluna \"Total_palavras\" existe no DataFrame\n",
    "if 'Total_palavras' in df_portarias_mgi.columns:\n",
    "    # Filtrar registros com até 512 palavras\n",
    "    registros_ate_512 = df_portarias_mgi[df_portarias_mgi['Total_palavras'] <= 512]\n",
    "    \n",
    "    # Contar o total de registros que atendem ao critério\n",
    "    total_registros_ate_512 = len(registros_ate_512)\n",
    "    \n",
    "    print(f\"Total de registros com até 512 palavras: {total_registros_ate_512}\")\n",
    "else:\n",
    "    print(\"Erro: A coluna 'Total_palavras' não foi encontrada no DataFrame.\")\n"
   ]
  },
  {
   "cell_type": "code",
   "execution_count": 4,
   "id": "06d3e1f3-c185-4053-a613-a6cf965e9f7a",
   "metadata": {},
   "outputs": [
    {
     "data": {
      "image/png": "[encoded data removed]",
      "text/plain": [
       "<Figure size 800x600 with 1 Axes>"
      ]
     },
     "metadata": {},
     "output_type": "display_data"
    }
   ],
   "source": [
    "import pandas as pd\n",
    "import matplotlib.pyplot as plt\n",
    "\n",
    "# Supondo que o DataFrame df_portarias_mgi já exista\n",
    "# df_portarias_mgi['Total_palavras'] contém o total de palavras por documento\n",
    "\n",
    "# Calcular a quantidade de documentos com até 512 palavras\n",
    "total_documentos = len(df_portarias_mgi)\n",
    "documentos_ate_512 = df_portarias_mgi[df_portarias_mgi['Total_palavras'] <= 512]\n",
    "percentual_ate_512 = len(documentos_ate_512) / total_documentos * 100\n",
    "\n",
    "# Preparar os dados para o gráfico\n",
    "categorias = ['Até 512 palavras', 'Mais de 512 palavras']\n",
    "quantidades = [len(documentos_ate_512), total_documentos - len(documentos_ate_512)]\n",
    "\n",
    "# Criar o gráfico de barras\n",
    "plt.figure(figsize=(8, 6))\n",
    "plt.bar(categorias, quantidades, color=['blue', 'orange'])\n",
    "\n",
    "# Adicionar rótulos e título\n",
    "plt.title('Distribuição de Documentos por Total de Palavras', fontsize=14)\n",
    "plt.ylabel('Quantidade de Documentos', fontsize=12)\n",
    "plt.text(0, quantidades[0] + total_documentos * 0.01, f'{percentual_ate_512:.2f}%', ha='center', fontsize=12)\n",
    "plt.text(1, quantidades[1] + total_documentos * 0.01, f'{100 - percentual_ate_512:.2f}%', ha='center', fontsize=12)\n",
    "\n",
    "# Exibir o gráfico\n",
    "plt.tight_layout()\n",
    "plt.show()\n"
   ]
  },
  {
   "cell_type": "code",
   "execution_count": null,
   "id": "dc76256c-9a5b-4509-8526-fd6978377ef0",
   "metadata": {},
   "outputs": [],
   "source": []
  }
 ],
 "metadata": {
  "kernelspec": {
   "display_name": "Python 3 (ipykernel)",
   "language": "python",
   "name": "python3"
  },
  "language_info": {
   "codemirror_mode": {
    "name": "ipython",
    "version": 3
   },
   "file_extension": ".py",
   "mimetype": "text/x-python",
   "name": "python",
   "nbconvert_exporter": "python",
   "pygments_lexer": "ipython3",
   "version": "3.11.10"
  }
 },
 "nbformat": 4,
 "nbformat_minor": 5
}
