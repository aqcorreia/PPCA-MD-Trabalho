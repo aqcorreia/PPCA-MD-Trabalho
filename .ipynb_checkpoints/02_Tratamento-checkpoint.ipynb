{
 "cells": [
  {
   "cell_type": "markdown",
   "id": "bdec40b0-8912-463b-9882-f8d3b6173dab",
   "metadata": {},
   "source": [
    "## Script responsável por realizar a análise descritiva\n",
    "\n",
    "- Este código pressupõe que os arquivos do DOU estejam descompactados e se encontrem no arquivo **./saida/01_DOUSecao02_completo.parquet**\n",
    "- Caso não exista o arquivo, ele pode ser gerado por meio do notebook **01_DOU_LerZips.ipynb**\n",
    "- Processamento deste script:\n",
    "  - Faz a leitura do arquivo **./saida/01_DOUSecao02_completo.parquet**\n",
    "  - Filtra apenas portarias\n",
    "  - Filtra apenas portarias do MGI\n",
    "  - Cria a coluna Texto a partir da TextHTML, removento das tags html do corpo da portaria\n",
    "  - Cria a coluna Total_palavras, que exibe o total de palavras da coluna Texto\n",
    "  - Cria a coluna Ano com o ano da publicação (pubDate)\n",
    "  - Cria a coluna Mês com o mês da publicação (pubDate)\n",
    "  - Salva a saída parcial no arquivo **.\\saida\\02_DouSecao0<No Seção>_portarias_mgi_tratado.parquet** \n",
    " \n",
    "---\n"
   ]
  },
  {
   "cell_type": "markdown",
   "id": "a818c432-aade-4275-914b-584e3819b0ae",
   "metadata": {},
   "source": [
    "## Biblioteca"
   ]
  },
  {
   "cell_type": "code",
   "execution_count": 8,
   "id": "d32c406e-4b7e-423d-b6f1-c7d46596e2bb",
   "metadata": {},
   "outputs": [],
   "source": [
    "import pandas as pd\n",
    "import string\n",
    "import spacy\n",
    "from bs4 import BeautifulSoup\n",
    "import string\n",
    "import time"
   ]
  },
  {
   "cell_type": "markdown",
   "id": "948c1f01-edf5-4b7f-b241-3e57e879799c",
   "metadata": {},
   "source": [
    "## Primeira parte do código\n",
    "\n",
    "- Cria as colunas\n",
    "    - Texto, a partir da coluna TextoHTML\n",
    "    - Total_Palavras, conta o total de palavras na coluna Texto\n",
    "    - Ano, a partir de pubDate\n",
    "    - Mês, a partir de pubDate\n",
    "- Salva o arquivo parcial **./saida/02_DOU{secao}_completo_tratado.parquet**"
   ]
  },
  {
   "cell_type": "code",
   "execution_count": 2,
   "id": "4c920508-d5be-4314-9c19-55f9028f02b1",
   "metadata": {},
   "outputs": [],
   "source": [
    "# Função para contar palavras desconsiderando a pontuação\n",
    "def contar_palavras(texto):\n",
    "    # Remover pontuação\n",
    "    texto_sem_pontuacao = texto.translate(str.maketrans('', '', string.punctuation))\n",
    "    # Dividir o texto em palavras\n",
    "    palavras = texto_sem_pontuacao.split()\n",
    "    # Retornar a contagem de palavras\n",
    "    return len(palavras)"
   ]
  },
  {
   "cell_type": "code",
   "execution_count": 3,
   "id": "6835c38b-35cf-48df-86e8-e4a2b2472caa",
   "metadata": {},
   "outputs": [],
   "source": [
    "# Função para extrair o texto de um texto HTML\n",
    "def extract_text_from_html(html):\n",
    "    soup = BeautifulSoup(html, 'html.parser')\n",
    "    return soup.get_text(separator=' ')"
   ]
  },
  {
   "cell_type": "code",
   "execution_count": 4,
   "id": "d0d37614-af94-4084-96fa-becaccdb3cb7",
   "metadata": {},
   "outputs": [
    {
     "data": {
      "text/plain": [
       "(497325, 27)"
      ]
     },
     "execution_count": 4,
     "metadata": {},
     "output_type": "execute_result"
    }
   ],
   "source": [
    "douItem = 2\n",
    "secao = f'Secao0{douItem}'\n",
    "\n",
    "# Lê o arquivo Parquet\n",
    "df = pd.read_parquet(f'./saida/01_DOU{secao}_completo.parquet', engine='pyarrow')  # ou engine='fastparquet'\n",
    "\n",
    "# Exibe as primeiras linhas do DataFrame\n",
    "df.shape\n"
   ]
  },
  {
   "cell_type": "code",
   "execution_count": 5,
   "id": "0f938a3d-9d0e-4ca2-9c0f-5abb41746dee",
   "metadata": {},
   "outputs": [
    {
     "data": {
      "text/plain": [
       "(425710, 27)"
      ]
     },
     "execution_count": 5,
     "metadata": {},
     "output_type": "execute_result"
    }
   ],
   "source": [
    "df_portaria = df[df['artType'] == 'Portaria']\n",
    "\n",
    "df_portaria.shape"
   ]
  },
  {
   "cell_type": "code",
   "execution_count": 6,
   "id": "3a30e794-4310-4b20-ae18-4584403582b7",
   "metadata": {},
   "outputs": [
    {
     "data": {
      "text/plain": [
       "(20199, 27)"
      ]
     },
     "execution_count": 6,
     "metadata": {},
     "output_type": "execute_result"
    }
   ],
   "source": [
    "# Filtrar os valores que contenham \"ministério da inovação\" na coluna 'artCategory', ignorando case\n",
    "filtro = df_portaria['artCategory'].str.contains(\"Ministério da Gestão e da Inovação em Serviços Público\", case=False, na=False)\n",
    "df_portaria_mgi = df_portaria[filtro]\n",
    "\n",
    "# Exibir o DataFrame filtrado\n",
    "df_portaria_mgi.shape"
   ]
  },
  {
   "cell_type": "code",
   "execution_count": 11,
   "id": "569960e0-a459-4ffb-87fc-50dd6bcd1055",
   "metadata": {},
   "outputs": [
    {
     "name": "stdout",
     "output_type": "stream",
     "text": [
      "(20199, 31)\n",
      "Tempo de execução: 2.06 segundos\n"
     ]
    }
   ],
   "source": [
    "# Início do cronômetro\n",
    "start_time = time.time()\n",
    "\n",
    "# Garantir que estamos trabalhando com uma cópia explícita\n",
    "df_portaria_mgi = df_portaria_mgi.copy()\n",
    "\n",
    "# Cria uma coluna 'Total_palavras' com o total de palavras da coluna Texto\n",
    "df_portaria_mgi.loc[:, 'Total_palavras'] = df_portaria_mgi['Texto'].apply(contar_palavras)\n",
    "\n",
    "# Converte a coluna pubDate para datetime\n",
    "df_portaria_mgi.loc[:, 'pubDate'] = pd.to_datetime(df_portaria_mgi['pubDate'], format='%d/%m/%Y', errors='coerce')\n",
    "\n",
    "# Filtrar apenas os valores válidos em pubDate\n",
    "df_portaria_mgi = df_portaria_mgi[df_portaria_mgi['pubDate'].notna()]\n",
    "\n",
    "# Extrair ano e mês\n",
    "df_portaria_mgi.loc[:, 'Ano'] = df_portaria_mgi['pubDate'].dt.year\n",
    "df_portaria_mgi.loc[:, 'Mês'] = df_portaria_mgi['pubDate'].dt.month\n",
    "\n",
    "# Exibe o shape do DataFrame final\n",
    "print(df_portaria_mgi.shape)\n",
    "\n",
    "# Fim do cronômetro\n",
    "end_time = time.time()\n",
    "\n",
    "# Exibir o tempo de execução\n",
    "execution_time = end_time - start_time\n",
    "print(f\"Tempo de execução: {execution_time:.2f} segundos\")\n"
   ]
  },
  {
   "cell_type": "code",
   "execution_count": 12,
   "id": "96e55f9a-065f-4d0a-b8ec-2874b3237754",
   "metadata": {},
   "outputs": [],
   "source": [
    "# Salva saída parcial o arquivo completo com novas colunas\n",
    "df.to_parquet(f'./saida/02_DOU{secao}_portarias_mgi_tratado.parquet', engine='pyarrow', index=False)"
   ]
  },
  {
   "cell_type": "code",
   "execution_count": null,
   "id": "8b5e1316-e37c-4b8b-ab96-c1fd4526bbf9",
   "metadata": {},
   "outputs": [],
   "source": []
  }
 ],
 "metadata": {
  "kernelspec": {
   "display_name": "Python 3 (ipykernel)",
   "language": "python",
   "name": "python3"
  },
  "language_info": {
   "codemirror_mode": {
    "name": "ipython",
    "version": 3
   },
   "file_extension": ".py",
   "mimetype": "text/x-python",
   "name": "python",
   "nbconvert_exporter": "python",
   "pygments_lexer": "ipython3",
   "version": "3.11.10"
  }
 },
 "nbformat": 4,
 "nbformat_minor": 5
}
