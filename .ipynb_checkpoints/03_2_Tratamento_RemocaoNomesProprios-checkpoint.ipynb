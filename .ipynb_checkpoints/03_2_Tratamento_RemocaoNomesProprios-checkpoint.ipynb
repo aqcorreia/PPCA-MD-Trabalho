{
 "cells": [
  {
   "cell_type": "markdown",
   "id": "10bd2f0c-3e2c-457c-97e1-7584e29b8c9c",
   "metadata": {},
   "source": [
    "## Script responsável pela remoção dos nome próprios\n",
    "\n",
    "- Este código pressupõe que a existência do arquivo **.\\saida\\03_1_DOUSecao02_portarias_mgi_tratado_basico.parquet** \n",
    "- Caso não exista, ele pode ser gerado por meio do notebook **03_1_Tratamento_Basico.ipynb**\n",
    "- Processamento deste script:\n",
    "  - Faz a leitura do arquivo **./saida/03_1_DOUSecao02_portarias_mgi_tratado_basico.parquet**\n",
    "  - Remove os nomes próprios da **coluna TextoTratado**\n",
    "  - Salva a saída parcial no arquivo **.\\saida\\03_2_DouSecao02_portarias_mgi_tratado_NER.parquet** \n",
    " \n",
    "---\n"
   ]
  },
  {
   "cell_type": "markdown",
   "id": "1d5fe29c-d17b-4ba0-a298-7817f6bce4be",
   "metadata": {},
   "source": [
    "## Biblioteca"
   ]
  },
  {
   "cell_type": "code",
   "execution_count": null,
   "id": "0e7c97b7-7b4d-4002-9138-240403740758",
   "metadata": {},
   "outputs": [],
   "source": [
    "import pandas as pd\n",
    "import spacy\n",
    "import time"
   ]
  },
  {
   "cell_type": "code",
   "execution_count": null,
   "id": "259e9bda-ee20-46f3-a989-44f4819f1073",
   "metadata": {},
   "outputs": [],
   "source": [
    "douItem = 2\n",
    "secao = f'Secao0{douItem}'\n",
    "\n",
    "# Lê o arquivo Parquet\n",
    "df_portarias_mgi = pd.read_parquet(f'./saida/03_1_DOU{secao}_portarias_mgi_tratado_basico.parquet', engine='pyarrow')  # ou engine='fastparquet'\n",
    "\n",
    "# Exibe as primeiras linhas do DataFrame\n",
    "df_portarias_mgi.shape\n"
   ]
  },
  {
   "cell_type": "code",
   "execution_count": null,
   "id": "701cb674-7184-44f8-b825-9d9b5653cabf",
   "metadata": {},
   "outputs": [],
   "source": [
    "df_portarias_mgi.head()"
   ]
  },
  {
   "cell_type": "code",
   "execution_count": null,
   "id": "6536f80a-3112-473e-b048-e50425f451a0",
   "metadata": {},
   "outputs": [],
   "source": [
    "# Carregar o modelo de linguagem em português.\n",
    "nlp = spacy.load('pt_core_news_sm')\n",
    "\n",
    "def extrair_nomes(texto):\n",
    "    \"\"\"\n",
    "    Extrai nomes (entidades do tipo PER) do texto.\n",
    "    Exclui nomes que começam com determinados prefixos, desconsiderando o case.\n",
    "    \"\"\"\n",
    "    # Processar o texto com o modelo spaCy\n",
    "    doc = nlp(texto)\n",
    "\n",
    "    # Extrair entidades rotuladas como \"PER\" (Pessoas)\n",
    "    nomes = [ent.text for ent in doc.ents if ent.label_ == 'PER']\n",
    "\n",
    "    # Filtrar nomes para excluir aqueles que começam com os prefixos indesejados\n",
    "    prefixos_indesejados = ('administracao', 'administrador', 'analista', 'anexo', 'cargo', 'apto', 'arquiteta', 'arquivista',\n",
    "                        'arquivologia', 'arquivos', 'arts', 'artifice', 'ascensorista', 'assessor', 'assessora', 'assistente', \n",
    "                        'auditor', 'autoriza', 'auxiliar', 'bi', 'bancada', 'bancario', 'carteiro', 'carpinteiro', \n",
    "                        'cartorio', 'celetista', 'chefe', 'conceder', 'coordenador', 'coordenadora', 'coordenador-geral', \n",
    "                        'comissionada', 'dataprev', 'decreto', 'designar', 'diretor', 'diretoria', \n",
    "                        'escrivao', 'especializado', 'iii', 'inciso', 'instituidor', 'lei', 'matricula', 'paragrafo', 'patrimonio', 'professor',\n",
    "                        'orgao', 'orgaos', 'siape', 'sisg', 'soldo', 'vii', 'xxx', 'uteis')\n",
    "\n",
    "    nomes_filtrados = [\n",
    "        nome for nome in nomes \n",
    "        if not nome.lower().startswith(prefixos_indesejados)\n",
    "    ]\n",
    "\n",
    "    # Retornar os nomes filtrados como uma única string, separados por vírgulas\n",
    "    return ', '.join(nomes_filtrados)\n",
    "\n",
    "\n",
    "\n",
    "# Função para remover nomes de pessoas\n",
    "def remover_nomes(texto):\n",
    "    doc = nlp(texto)\n",
    "    # Excluir tokens que são identificados como nomes próprios (entidade do tipo 'PER')\n",
    "    tokens_sem_nomes = [token.text for token in doc if token.ent_type_ != 'PER']\n",
    "    return ' '.join(tokens_sem_nomes)\n",
    "\n",
    "# Configurar o tamanho do bloco\n",
    "tamanho_bloco = 200\n",
    "\n",
    "# Inicializar colunas para os resultados\n",
    "df_portarias_mgi['Texto_sem_nomes'] = None\n",
    "df_portarias_mgi['Nomes'] = None\n",
    "\n",
    "# Medir o tempo total de execução\n",
    "inicio_tempo_total = time.time()\n",
    "\n",
    "# Processar em blocos\n",
    "for inicio in range(0, len(df_portarias_mgi), tamanho_bloco):\n",
    "    fim = min(inicio + tamanho_bloco, len(df_portarias_mgi))  # Define o limite superior do bloco\n",
    "    print(f\"Tratando de {inicio + 1} a {fim}\")\n",
    "    \n",
    "    # Selecionar o bloco atual\n",
    "    bloco = df_portarias_mgi.iloc[inicio:fim]\n",
    "\n",
    "    # Aplicar as funções ao bloco\n",
    "    df_portarias_mgi.loc[inicio:fim - 1, 'TextoTratadoSemNomes'] = bloco['TextoTratado'].apply(remover_nomes)\n",
    "    df_portarias_mgi.loc[inicio:fim - 1, 'Nomes'] = bloco['TextoTratado'].apply(extrair_nomes)\n",
    "\n",
    "# Medir o tempo final\n",
    "fim_tempo_total = time.time()\n",
    "\n",
    "# Calcular o tempo total de execução\n",
    "tempo_execucao_total = fim_tempo_total - inicio_tempo_total\n",
    "print(f\"Tempo total de execução: {tempo_execucao_total:.2f} segundos\")\n"
   ]
  },
  {
   "cell_type": "code",
   "execution_count": null,
   "id": "31c6ca7b-e88c-432a-8094-0e61d129d7ab",
   "metadata": {},
   "outputs": [],
   "source": [
    "df_portarias_mgi.shape"
   ]
  },
  {
   "cell_type": "code",
   "execution_count": null,
   "id": "48923cba-4435-4875-a331-51944733ac6f",
   "metadata": {},
   "outputs": [],
   "source": [
    "# Salva saída parcial o arquivo completo com novas colunas\n",
    "df_portarias_mgi.to_parquet(f'./saida/03_2_DOU{secao}_portarias_mgi_tratado_NER.parquet', engine='pyarrow', index=False)"
   ]
  },
  {
   "cell_type": "code",
   "execution_count": null,
   "id": "76c4cd52-fb3b-4012-a8f4-6903b52fa312",
   "metadata": {},
   "outputs": [],
   "source": []
  }
 ],
 "metadata": {
  "kernelspec": {
   "display_name": "Python 3 (ipykernel)",
   "language": "python",
   "name": "python3"
  },
  "language_info": {
   "codemirror_mode": {
    "name": "ipython",
    "version": 3
   },
   "file_extension": ".py",
   "mimetype": "text/x-python",
   "name": "python",
   "nbconvert_exporter": "python",
   "pygments_lexer": "ipython3",
   "version": "3.11.10"
  }
 },
 "nbformat": 4,
 "nbformat_minor": 5
}
