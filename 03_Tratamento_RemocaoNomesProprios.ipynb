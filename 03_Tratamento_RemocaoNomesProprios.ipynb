{
 "cells": [
  {
   "cell_type": "code",
   "execution_count": null,
   "id": "6536f80a-3112-473e-b048-e50425f451a0",
   "metadata": {},
   "outputs": [],
   "source": [
    "import spacy\n",
    "import pandas as pd\n",
    "\n",
    "# Carregar o modelo de linguagem em português\n",
    "nlp = spacy.load('pt_core_news_sm')\n",
    "\n",
    "def extrair_nomes(texto):\n",
    "    doc = nlp(texto)\n",
    "    nomes = [ent.text for ent in doc.ents if ent.label_ == 'PER']\n",
    "    return ', '.join(nomes)\n",
    "\n",
    "\n",
    "# Função para remover nomes de pessoas\n",
    "def remover_nomes(texto):\n",
    "    doc = nlp(texto)\n",
    "    tokens_sem_nomes = [token.text for token in doc if token.ent_type_ != 'PER']\n",
    "    return ' '.join(tokens_sem_nomes)\n",
    "\n",
    "df_portaria_reduz = df_portaria.head(5).copy()\n",
    "\n",
    "# Aplicar a função à coluna 'Texto' e criar a coluna 'Texto_sem_nomes'\n",
    "df_portaria_reduz['Texto_sem_nomes'] = df_portaria_reduz['Texto'].apply(remover_nomes)\n",
    "\n",
    "df_portaria_reduz['Nomes'] = df_portaria_reduz['Texto'].apply(extrair_nomes)\n"
   ]
  },
  {
   "cell_type": "code",
   "execution_count": null,
   "id": "848a9936-53c2-41e7-aa5a-ed5b34bb126e",
   "metadata": {},
   "outputs": [],
   "source": [
    "# Carregar o modelo de linguagem em português\n",
    "nlp = spacy.load('pt_core_news_sm')\n",
    "\n",
    "texto = \"Lilian Vanessa Silva Belluco Pinheiro, inciso II, inciso II, Emenda Constitucional, inciso II, Emenda Constitucional, CRUZ MACEDO\"\n",
    "\n",
    "\n",
    "# Processar o texto\n",
    "doc = nlp(texto)\n",
    "\n",
    "# Exibir tokens e seus tipos\n",
    "for token in doc:\n",
    "    print(f'Token: {token.text}\\tTipo: {token.pos_}')"
   ]
  }
 ],
 "metadata": {
  "kernelspec": {
   "display_name": "Python 3 (ipykernel)",
   "language": "python",
   "name": "python3"
  },
  "language_info": {
   "codemirror_mode": {
    "name": "ipython",
    "version": 3
   },
   "file_extension": ".py",
   "mimetype": "text/x-python",
   "name": "python",
   "nbconvert_exporter": "python",
   "pygments_lexer": "ipython3",
   "version": "3.11.10"
  }
 },
 "nbformat": 4,
 "nbformat_minor": 5
}
